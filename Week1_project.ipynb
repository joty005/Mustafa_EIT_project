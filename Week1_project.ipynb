{
 "cells": [
  {
   "cell_type": "code",
   "execution_count": 1,
   "metadata": {},
   "outputs": [],
   "source": [
    "import numpy as np\n",
    "import pandas as pd\n",
    "import matplotlib.pyplot as plt\n",
    "import seaborn as sns"
   ]
  },
  {
   "cell_type": "code",
   "execution_count": 2,
   "metadata": {},
   "outputs": [],
   "source": [
    "data=pd.read_csv('raw_house_data.csv')"
   ]
  },
  {
   "cell_type": "code",
   "execution_count": 3,
   "metadata": {},
   "outputs": [
    {
     "name": "stdout",
     "output_type": "stream",
     "text": [
      "<class 'pandas.core.frame.DataFrame'>\n",
      "RangeIndex: 5000 entries, 0 to 4999\n",
      "Data columns (total 16 columns):\n",
      "MLS                 5000 non-null int64\n",
      "sold_price          5000 non-null float64\n",
      "zipcode             5000 non-null int64\n",
      "longitude           5000 non-null float64\n",
      "latitude            5000 non-null float64\n",
      "lot_acres           4990 non-null float64\n",
      "taxes               5000 non-null float64\n",
      "year_built          5000 non-null int64\n",
      "bedrooms            5000 non-null int64\n",
      "bathrooms           5000 non-null object\n",
      "sqrt_ft             5000 non-null object\n",
      "garage              5000 non-null object\n",
      "kitchen_features    5000 non-null object\n",
      "fireplaces          5000 non-null object\n",
      "floor_covering      5000 non-null object\n",
      "HOA                 5000 non-null object\n",
      "dtypes: float64(5), int64(4), object(7)\n",
      "memory usage: 625.1+ KB\n"
     ]
    }
   ],
   "source": [
    "data.info()"
   ]
  },
  {
   "cell_type": "markdown",
   "metadata": {},
   "source": [
    "From the summary it can be seen that there are 16 columns and 10 null values in the column lot-acres. There are 9 columns numeric and the 7 clumns that are shown object type\n",
    "Lets look at the summary of the numeric data."
   ]
  },
  {
   "cell_type": "code",
   "execution_count": 4,
   "metadata": {},
   "outputs": [
    {
     "data": {
      "text/html": [
       "<div>\n",
       "<style scoped>\n",
       "    .dataframe tbody tr th:only-of-type {\n",
       "        vertical-align: middle;\n",
       "    }\n",
       "\n",
       "    .dataframe tbody tr th {\n",
       "        vertical-align: top;\n",
       "    }\n",
       "\n",
       "    .dataframe thead th {\n",
       "        text-align: right;\n",
       "    }\n",
       "</style>\n",
       "<table border=\"1\" class=\"dataframe\">\n",
       "  <thead>\n",
       "    <tr style=\"text-align: right;\">\n",
       "      <th></th>\n",
       "      <th>MLS</th>\n",
       "      <th>sold_price</th>\n",
       "      <th>zipcode</th>\n",
       "      <th>longitude</th>\n",
       "      <th>latitude</th>\n",
       "      <th>lot_acres</th>\n",
       "      <th>taxes</th>\n",
       "      <th>year_built</th>\n",
       "      <th>bedrooms</th>\n",
       "    </tr>\n",
       "  </thead>\n",
       "  <tbody>\n",
       "    <tr>\n",
       "      <th>count</th>\n",
       "      <td>5.000000e+03</td>\n",
       "      <td>5.000000e+03</td>\n",
       "      <td>5000.000000</td>\n",
       "      <td>5000.000000</td>\n",
       "      <td>5000.000000</td>\n",
       "      <td>4990.000000</td>\n",
       "      <td>5.000000e+03</td>\n",
       "      <td>5000.00000</td>\n",
       "      <td>5000.000000</td>\n",
       "    </tr>\n",
       "    <tr>\n",
       "      <th>mean</th>\n",
       "      <td>2.127070e+07</td>\n",
       "      <td>7.746262e+05</td>\n",
       "      <td>85723.025600</td>\n",
       "      <td>-110.912107</td>\n",
       "      <td>32.308512</td>\n",
       "      <td>4.661317</td>\n",
       "      <td>9.402828e+03</td>\n",
       "      <td>1992.32800</td>\n",
       "      <td>3.933800</td>\n",
       "    </tr>\n",
       "    <tr>\n",
       "      <th>std</th>\n",
       "      <td>2.398508e+06</td>\n",
       "      <td>3.185556e+05</td>\n",
       "      <td>38.061712</td>\n",
       "      <td>0.120629</td>\n",
       "      <td>0.178028</td>\n",
       "      <td>51.685230</td>\n",
       "      <td>1.729385e+05</td>\n",
       "      <td>65.48614</td>\n",
       "      <td>1.245362</td>\n",
       "    </tr>\n",
       "    <tr>\n",
       "      <th>min</th>\n",
       "      <td>3.042851e+06</td>\n",
       "      <td>1.690000e+05</td>\n",
       "      <td>85118.000000</td>\n",
       "      <td>-112.520168</td>\n",
       "      <td>31.356362</td>\n",
       "      <td>0.000000</td>\n",
       "      <td>0.000000e+00</td>\n",
       "      <td>0.00000</td>\n",
       "      <td>1.000000</td>\n",
       "    </tr>\n",
       "    <tr>\n",
       "      <th>25%</th>\n",
       "      <td>2.140718e+07</td>\n",
       "      <td>5.850000e+05</td>\n",
       "      <td>85718.000000</td>\n",
       "      <td>-110.979260</td>\n",
       "      <td>32.277484</td>\n",
       "      <td>0.580000</td>\n",
       "      <td>4.803605e+03</td>\n",
       "      <td>1987.00000</td>\n",
       "      <td>3.000000</td>\n",
       "    </tr>\n",
       "    <tr>\n",
       "      <th>50%</th>\n",
       "      <td>2.161469e+07</td>\n",
       "      <td>6.750000e+05</td>\n",
       "      <td>85737.000000</td>\n",
       "      <td>-110.923420</td>\n",
       "      <td>32.318517</td>\n",
       "      <td>0.990000</td>\n",
       "      <td>6.223760e+03</td>\n",
       "      <td>1999.00000</td>\n",
       "      <td>4.000000</td>\n",
       "    </tr>\n",
       "    <tr>\n",
       "      <th>75%</th>\n",
       "      <td>2.180480e+07</td>\n",
       "      <td>8.350000e+05</td>\n",
       "      <td>85749.000000</td>\n",
       "      <td>-110.859078</td>\n",
       "      <td>32.394334</td>\n",
       "      <td>1.757500</td>\n",
       "      <td>8.082830e+03</td>\n",
       "      <td>2006.00000</td>\n",
       "      <td>4.000000</td>\n",
       "    </tr>\n",
       "    <tr>\n",
       "      <th>max</th>\n",
       "      <td>2.192856e+07</td>\n",
       "      <td>5.300000e+06</td>\n",
       "      <td>86323.000000</td>\n",
       "      <td>-109.454637</td>\n",
       "      <td>34.927884</td>\n",
       "      <td>2154.000000</td>\n",
       "      <td>1.221508e+07</td>\n",
       "      <td>2019.00000</td>\n",
       "      <td>36.000000</td>\n",
       "    </tr>\n",
       "  </tbody>\n",
       "</table>\n",
       "</div>"
      ],
      "text/plain": [
       "                MLS    sold_price       zipcode    longitude     latitude  \\\n",
       "count  5.000000e+03  5.000000e+03   5000.000000  5000.000000  5000.000000   \n",
       "mean   2.127070e+07  7.746262e+05  85723.025600  -110.912107    32.308512   \n",
       "std    2.398508e+06  3.185556e+05     38.061712     0.120629     0.178028   \n",
       "min    3.042851e+06  1.690000e+05  85118.000000  -112.520168    31.356362   \n",
       "25%    2.140718e+07  5.850000e+05  85718.000000  -110.979260    32.277484   \n",
       "50%    2.161469e+07  6.750000e+05  85737.000000  -110.923420    32.318517   \n",
       "75%    2.180480e+07  8.350000e+05  85749.000000  -110.859078    32.394334   \n",
       "max    2.192856e+07  5.300000e+06  86323.000000  -109.454637    34.927884   \n",
       "\n",
       "         lot_acres         taxes  year_built     bedrooms  \n",
       "count  4990.000000  5.000000e+03  5000.00000  5000.000000  \n",
       "mean      4.661317  9.402828e+03  1992.32800     3.933800  \n",
       "std      51.685230  1.729385e+05    65.48614     1.245362  \n",
       "min       0.000000  0.000000e+00     0.00000     1.000000  \n",
       "25%       0.580000  4.803605e+03  1987.00000     3.000000  \n",
       "50%       0.990000  6.223760e+03  1999.00000     4.000000  \n",
       "75%       1.757500  8.082830e+03  2006.00000     4.000000  \n",
       "max    2154.000000  1.221508e+07  2019.00000    36.000000  "
      ]
     },
     "execution_count": 4,
     "metadata": {},
     "output_type": "execute_result"
    }
   ],
   "source": [
    "data.describe()\n",
    "#data.columns"
   ]
  },
  {
   "cell_type": "markdown",
   "metadata": {},
   "source": [
    "From the summary, we can see that minimum values lot_acres,taxes and year_built is zero. Certainly they cannot be zero.So, there are many missing values in the databases. \n",
    "Lets look at the first 5 columns to get an idea of the housing database. "
   ]
  },
  {
   "cell_type": "code",
   "execution_count": 5,
   "metadata": {},
   "outputs": [
    {
     "data": {
      "text/html": [
       "<div>\n",
       "<style scoped>\n",
       "    .dataframe tbody tr th:only-of-type {\n",
       "        vertical-align: middle;\n",
       "    }\n",
       "\n",
       "    .dataframe tbody tr th {\n",
       "        vertical-align: top;\n",
       "    }\n",
       "\n",
       "    .dataframe thead th {\n",
       "        text-align: right;\n",
       "    }\n",
       "</style>\n",
       "<table border=\"1\" class=\"dataframe\">\n",
       "  <thead>\n",
       "    <tr style=\"text-align: right;\">\n",
       "      <th></th>\n",
       "      <th>MLS</th>\n",
       "      <th>sold_price</th>\n",
       "      <th>zipcode</th>\n",
       "      <th>longitude</th>\n",
       "      <th>latitude</th>\n",
       "      <th>lot_acres</th>\n",
       "      <th>taxes</th>\n",
       "      <th>year_built</th>\n",
       "      <th>bedrooms</th>\n",
       "      <th>bathrooms</th>\n",
       "      <th>sqrt_ft</th>\n",
       "      <th>garage</th>\n",
       "      <th>kitchen_features</th>\n",
       "      <th>fireplaces</th>\n",
       "      <th>floor_covering</th>\n",
       "      <th>HOA</th>\n",
       "    </tr>\n",
       "  </thead>\n",
       "  <tbody>\n",
       "    <tr>\n",
       "      <th>0</th>\n",
       "      <td>21530491</td>\n",
       "      <td>5300000.0</td>\n",
       "      <td>85637</td>\n",
       "      <td>-110.378200</td>\n",
       "      <td>31.356362</td>\n",
       "      <td>2154.00</td>\n",
       "      <td>5272.00</td>\n",
       "      <td>1941</td>\n",
       "      <td>13</td>\n",
       "      <td>10</td>\n",
       "      <td>10500</td>\n",
       "      <td>0</td>\n",
       "      <td>Dishwasher, Freezer, Refrigerator, Oven</td>\n",
       "      <td>6</td>\n",
       "      <td>Mexican Tile, Wood</td>\n",
       "      <td>0</td>\n",
       "    </tr>\n",
       "    <tr>\n",
       "      <th>1</th>\n",
       "      <td>21529082</td>\n",
       "      <td>4200000.0</td>\n",
       "      <td>85646</td>\n",
       "      <td>-111.045371</td>\n",
       "      <td>31.594213</td>\n",
       "      <td>1707.00</td>\n",
       "      <td>10422.36</td>\n",
       "      <td>1997</td>\n",
       "      <td>2</td>\n",
       "      <td>2</td>\n",
       "      <td>7300</td>\n",
       "      <td>0</td>\n",
       "      <td>Dishwasher, Garbage Disposal</td>\n",
       "      <td>5</td>\n",
       "      <td>Natural Stone, Other</td>\n",
       "      <td>0</td>\n",
       "    </tr>\n",
       "    <tr>\n",
       "      <th>2</th>\n",
       "      <td>3054672</td>\n",
       "      <td>4200000.0</td>\n",
       "      <td>85646</td>\n",
       "      <td>-111.040707</td>\n",
       "      <td>31.594844</td>\n",
       "      <td>1707.00</td>\n",
       "      <td>10482.00</td>\n",
       "      <td>1997</td>\n",
       "      <td>2</td>\n",
       "      <td>3</td>\n",
       "      <td>None</td>\n",
       "      <td>None</td>\n",
       "      <td>Dishwasher, Garbage Disposal, Refrigerator</td>\n",
       "      <td>5</td>\n",
       "      <td>Natural Stone, Other: Rock</td>\n",
       "      <td>None</td>\n",
       "    </tr>\n",
       "    <tr>\n",
       "      <th>3</th>\n",
       "      <td>21919321</td>\n",
       "      <td>4500000.0</td>\n",
       "      <td>85646</td>\n",
       "      <td>-111.035925</td>\n",
       "      <td>31.645878</td>\n",
       "      <td>636.67</td>\n",
       "      <td>8418.58</td>\n",
       "      <td>1930</td>\n",
       "      <td>7</td>\n",
       "      <td>5</td>\n",
       "      <td>9019</td>\n",
       "      <td>4</td>\n",
       "      <td>Dishwasher, Double Sink, Pantry: Butler, Refri...</td>\n",
       "      <td>4</td>\n",
       "      <td>Ceramic Tile, Laminate, Wood</td>\n",
       "      <td>None</td>\n",
       "    </tr>\n",
       "    <tr>\n",
       "      <th>4</th>\n",
       "      <td>21306357</td>\n",
       "      <td>3411450.0</td>\n",
       "      <td>85750</td>\n",
       "      <td>-110.813768</td>\n",
       "      <td>32.285162</td>\n",
       "      <td>3.21</td>\n",
       "      <td>15393.00</td>\n",
       "      <td>1995</td>\n",
       "      <td>4</td>\n",
       "      <td>6</td>\n",
       "      <td>6396</td>\n",
       "      <td>3</td>\n",
       "      <td>Dishwasher, Garbage Disposal, Refrigerator, Mi...</td>\n",
       "      <td>5</td>\n",
       "      <td>Carpet, Concrete</td>\n",
       "      <td>55</td>\n",
       "    </tr>\n",
       "    <tr>\n",
       "      <th>5</th>\n",
       "      <td>21528016</td>\n",
       "      <td>3250000.0</td>\n",
       "      <td>85718</td>\n",
       "      <td>-110.910593</td>\n",
       "      <td>32.339090</td>\n",
       "      <td>1.67</td>\n",
       "      <td>27802.84</td>\n",
       "      <td>1999</td>\n",
       "      <td>3</td>\n",
       "      <td>4</td>\n",
       "      <td>6842</td>\n",
       "      <td>3</td>\n",
       "      <td>Dishwasher, Garbage Disposal, Refrigerator, Mi...</td>\n",
       "      <td>5</td>\n",
       "      <td>Natural Stone, Wood, Other</td>\n",
       "      <td>422</td>\n",
       "    </tr>\n",
       "    <tr>\n",
       "      <th>6</th>\n",
       "      <td>21610478</td>\n",
       "      <td>2400000.0</td>\n",
       "      <td>85712</td>\n",
       "      <td>-110.883315</td>\n",
       "      <td>32.261069</td>\n",
       "      <td>2.10</td>\n",
       "      <td>19038.42</td>\n",
       "      <td>2001</td>\n",
       "      <td>9</td>\n",
       "      <td>8</td>\n",
       "      <td>12025</td>\n",
       "      <td>4</td>\n",
       "      <td>Dishwasher, Garbage Disposal, Oven</td>\n",
       "      <td>6</td>\n",
       "      <td>Carpet, Natural Stone, Wood, Other</td>\n",
       "      <td>0</td>\n",
       "    </tr>\n",
       "    <tr>\n",
       "      <th>7</th>\n",
       "      <td>21211741</td>\n",
       "      <td>2500000.0</td>\n",
       "      <td>85750</td>\n",
       "      <td>-110.861002</td>\n",
       "      <td>32.331603</td>\n",
       "      <td>1.07</td>\n",
       "      <td>21646.00</td>\n",
       "      <td>2011</td>\n",
       "      <td>6</td>\n",
       "      <td>8</td>\n",
       "      <td>8921</td>\n",
       "      <td>4</td>\n",
       "      <td>Compactor, Dishwasher, Freezer, Garbage Dispos...</td>\n",
       "      <td>5</td>\n",
       "      <td>Carpet, Natural Stone, Wood</td>\n",
       "      <td>220</td>\n",
       "    </tr>\n",
       "    <tr>\n",
       "      <th>8</th>\n",
       "      <td>21324646</td>\n",
       "      <td>3700000.0</td>\n",
       "      <td>85718</td>\n",
       "      <td>-110.912156</td>\n",
       "      <td>32.343601</td>\n",
       "      <td>6.73</td>\n",
       "      <td>25094.39</td>\n",
       "      <td>2002</td>\n",
       "      <td>5</td>\n",
       "      <td>7</td>\n",
       "      <td>5238</td>\n",
       "      <td>3</td>\n",
       "      <td>Compactor, Dishwasher, Freezer, Garbage Dispos...</td>\n",
       "      <td>1</td>\n",
       "      <td>Carpet, Natural Stone, Wood, Other</td>\n",
       "      <td>421</td>\n",
       "    </tr>\n",
       "    <tr>\n",
       "      <th>9</th>\n",
       "      <td>21812010</td>\n",
       "      <td>3250000.0</td>\n",
       "      <td>85750</td>\n",
       "      <td>-110.837950</td>\n",
       "      <td>32.327575</td>\n",
       "      <td>3.53</td>\n",
       "      <td>18936.11</td>\n",
       "      <td>2007</td>\n",
       "      <td>5</td>\n",
       "      <td>6</td>\n",
       "      <td>6480</td>\n",
       "      <td>3</td>\n",
       "      <td>Dishwasher, Double Sink, Electric Range, Freez...</td>\n",
       "      <td>2</td>\n",
       "      <td>Carpet, Concrete</td>\n",
       "      <td>141.67</td>\n",
       "    </tr>\n",
       "  </tbody>\n",
       "</table>\n",
       "</div>"
      ],
      "text/plain": [
       "        MLS  sold_price  zipcode   longitude   latitude  lot_acres     taxes  \\\n",
       "0  21530491   5300000.0    85637 -110.378200  31.356362    2154.00   5272.00   \n",
       "1  21529082   4200000.0    85646 -111.045371  31.594213    1707.00  10422.36   \n",
       "2   3054672   4200000.0    85646 -111.040707  31.594844    1707.00  10482.00   \n",
       "3  21919321   4500000.0    85646 -111.035925  31.645878     636.67   8418.58   \n",
       "4  21306357   3411450.0    85750 -110.813768  32.285162       3.21  15393.00   \n",
       "5  21528016   3250000.0    85718 -110.910593  32.339090       1.67  27802.84   \n",
       "6  21610478   2400000.0    85712 -110.883315  32.261069       2.10  19038.42   \n",
       "7  21211741   2500000.0    85750 -110.861002  32.331603       1.07  21646.00   \n",
       "8  21324646   3700000.0    85718 -110.912156  32.343601       6.73  25094.39   \n",
       "9  21812010   3250000.0    85750 -110.837950  32.327575       3.53  18936.11   \n",
       "\n",
       "   year_built  bedrooms bathrooms sqrt_ft garage  \\\n",
       "0        1941        13        10   10500      0   \n",
       "1        1997         2         2    7300      0   \n",
       "2        1997         2         3    None   None   \n",
       "3        1930         7         5    9019      4   \n",
       "4        1995         4         6    6396      3   \n",
       "5        1999         3         4    6842      3   \n",
       "6        2001         9         8   12025      4   \n",
       "7        2011         6         8    8921      4   \n",
       "8        2002         5         7    5238      3   \n",
       "9        2007         5         6    6480      3   \n",
       "\n",
       "                                    kitchen_features fireplaces  \\\n",
       "0            Dishwasher, Freezer, Refrigerator, Oven          6   \n",
       "1                       Dishwasher, Garbage Disposal          5   \n",
       "2         Dishwasher, Garbage Disposal, Refrigerator          5   \n",
       "3  Dishwasher, Double Sink, Pantry: Butler, Refri...          4   \n",
       "4  Dishwasher, Garbage Disposal, Refrigerator, Mi...          5   \n",
       "5  Dishwasher, Garbage Disposal, Refrigerator, Mi...          5   \n",
       "6                 Dishwasher, Garbage Disposal, Oven          6   \n",
       "7  Compactor, Dishwasher, Freezer, Garbage Dispos...          5   \n",
       "8  Compactor, Dishwasher, Freezer, Garbage Dispos...          1   \n",
       "9  Dishwasher, Double Sink, Electric Range, Freez...          2   \n",
       "\n",
       "                       floor_covering     HOA  \n",
       "0                  Mexican Tile, Wood       0  \n",
       "1                Natural Stone, Other       0  \n",
       "2          Natural Stone, Other: Rock    None  \n",
       "3        Ceramic Tile, Laminate, Wood    None  \n",
       "4                    Carpet, Concrete      55  \n",
       "5          Natural Stone, Wood, Other     422  \n",
       "6  Carpet, Natural Stone, Wood, Other       0  \n",
       "7         Carpet, Natural Stone, Wood     220  \n",
       "8  Carpet, Natural Stone, Wood, Other     421  \n",
       "9                    Carpet, Concrete  141.67  "
      ]
     },
     "execution_count": 5,
     "metadata": {},
     "output_type": "execute_result"
    }
   ],
   "source": [
    "data.head(10)"
   ]
  },
  {
   "cell_type": "markdown",
   "metadata": {},
   "source": [
    "## Identifying Missing values"
   ]
  },
  {
   "cell_type": "markdown",
   "metadata": {},
   "source": [
    "From the first 5 columns we can see that.\n",
    "Column bathrooms should be a numeric, but panda considers it as object.\n",
    "Column sqrt_ft should be a numeric, but panda considers it as object.\n",
    "Column garage should be a numeric column,but panda considers it as object.\n",
    "Column fireplace is a numeric column,but panda considers it as object.\n",
    "Column HOA is a numrcic column,but panda considers it as object.\n",
    "Lets convert those colums to numeric and the string values will be replaced as missing (NaN)"
   ]
  },
  {
   "cell_type": "code",
   "execution_count": 6,
   "metadata": {},
   "outputs": [],
   "source": [
    "data['bathrooms'] = pd.to_numeric(data['bathrooms'],errors = 'coerce')\n",
    "data['sqrt_ft'] = pd.to_numeric(data['sqrt_ft'],errors = 'coerce')\n",
    "data['garage'] = pd.to_numeric(data['garage'],errors = 'coerce')\n",
    "data['fireplaces'] = pd.to_numeric(data['fireplaces'],errors = 'coerce')\n",
    "data['HOA'] = pd.to_numeric(data['HOA'],errors = 'coerce')"
   ]
  },
  {
   "cell_type": "code",
   "execution_count": 7,
   "metadata": {},
   "outputs": [
    {
     "name": "stdout",
     "output_type": "stream",
     "text": [
      "6\n",
      "56\n",
      "7\n",
      "25\n",
      "580\n"
     ]
    }
   ],
   "source": [
    "print(data['bathrooms'].isnull().sum())\n",
    "print(data['sqrt_ft'].isnull().sum())\n",
    "print(data['garage'].isnull().sum())\n",
    "print(data['fireplaces'].isnull().sum())\n",
    "print(data['HOA'].isnull().sum())"
   ]
  },
  {
   "cell_type": "markdown",
   "metadata": {},
   "source": [
    "Lets look at the data again"
   ]
  },
  {
   "cell_type": "code",
   "execution_count": 8,
   "metadata": {},
   "outputs": [
    {
     "name": "stdout",
     "output_type": "stream",
     "text": [
      "<class 'pandas.core.frame.DataFrame'>\n",
      "RangeIndex: 5000 entries, 0 to 4999\n",
      "Data columns (total 16 columns):\n",
      "MLS                 5000 non-null int64\n",
      "sold_price          5000 non-null float64\n",
      "zipcode             5000 non-null int64\n",
      "longitude           5000 non-null float64\n",
      "latitude            5000 non-null float64\n",
      "lot_acres           4990 non-null float64\n",
      "taxes               5000 non-null float64\n",
      "year_built          5000 non-null int64\n",
      "bedrooms            5000 non-null int64\n",
      "bathrooms           4994 non-null float64\n",
      "sqrt_ft             4944 non-null float64\n",
      "garage              4993 non-null float64\n",
      "kitchen_features    5000 non-null object\n",
      "fireplaces          4975 non-null float64\n",
      "floor_covering      5000 non-null object\n",
      "HOA                 4420 non-null float64\n",
      "dtypes: float64(10), int64(4), object(2)\n",
      "memory usage: 625.1+ KB\n"
     ]
    }
   ],
   "source": [
    "data.info()"
   ]
  },
  {
   "cell_type": "code",
   "execution_count": 9,
   "metadata": {},
   "outputs": [
    {
     "data": {
      "text/html": [
       "<div>\n",
       "<style scoped>\n",
       "    .dataframe tbody tr th:only-of-type {\n",
       "        vertical-align: middle;\n",
       "    }\n",
       "\n",
       "    .dataframe tbody tr th {\n",
       "        vertical-align: top;\n",
       "    }\n",
       "\n",
       "    .dataframe thead th {\n",
       "        text-align: right;\n",
       "    }\n",
       "</style>\n",
       "<table border=\"1\" class=\"dataframe\">\n",
       "  <thead>\n",
       "    <tr style=\"text-align: right;\">\n",
       "      <th></th>\n",
       "      <th>MLS</th>\n",
       "      <th>sold_price</th>\n",
       "      <th>zipcode</th>\n",
       "      <th>longitude</th>\n",
       "      <th>latitude</th>\n",
       "      <th>lot_acres</th>\n",
       "      <th>taxes</th>\n",
       "      <th>year_built</th>\n",
       "      <th>bedrooms</th>\n",
       "      <th>bathrooms</th>\n",
       "      <th>sqrt_ft</th>\n",
       "      <th>garage</th>\n",
       "      <th>kitchen_features</th>\n",
       "      <th>fireplaces</th>\n",
       "      <th>floor_covering</th>\n",
       "      <th>HOA</th>\n",
       "    </tr>\n",
       "  </thead>\n",
       "  <tbody>\n",
       "    <tr>\n",
       "      <th>0</th>\n",
       "      <td>21530491</td>\n",
       "      <td>5300000.0</td>\n",
       "      <td>85637</td>\n",
       "      <td>-110.378200</td>\n",
       "      <td>31.356362</td>\n",
       "      <td>2154.00</td>\n",
       "      <td>5272.00</td>\n",
       "      <td>1941</td>\n",
       "      <td>13</td>\n",
       "      <td>10.0</td>\n",
       "      <td>10500.0</td>\n",
       "      <td>0.0</td>\n",
       "      <td>Dishwasher, Freezer, Refrigerator, Oven</td>\n",
       "      <td>6.0</td>\n",
       "      <td>Mexican Tile, Wood</td>\n",
       "      <td>0.00</td>\n",
       "    </tr>\n",
       "    <tr>\n",
       "      <th>1</th>\n",
       "      <td>21529082</td>\n",
       "      <td>4200000.0</td>\n",
       "      <td>85646</td>\n",
       "      <td>-111.045371</td>\n",
       "      <td>31.594213</td>\n",
       "      <td>1707.00</td>\n",
       "      <td>10422.36</td>\n",
       "      <td>1997</td>\n",
       "      <td>2</td>\n",
       "      <td>2.0</td>\n",
       "      <td>7300.0</td>\n",
       "      <td>0.0</td>\n",
       "      <td>Dishwasher, Garbage Disposal</td>\n",
       "      <td>5.0</td>\n",
       "      <td>Natural Stone, Other</td>\n",
       "      <td>0.00</td>\n",
       "    </tr>\n",
       "    <tr>\n",
       "      <th>2</th>\n",
       "      <td>3054672</td>\n",
       "      <td>4200000.0</td>\n",
       "      <td>85646</td>\n",
       "      <td>-111.040707</td>\n",
       "      <td>31.594844</td>\n",
       "      <td>1707.00</td>\n",
       "      <td>10482.00</td>\n",
       "      <td>1997</td>\n",
       "      <td>2</td>\n",
       "      <td>3.0</td>\n",
       "      <td>NaN</td>\n",
       "      <td>NaN</td>\n",
       "      <td>Dishwasher, Garbage Disposal, Refrigerator</td>\n",
       "      <td>5.0</td>\n",
       "      <td>Natural Stone, Other: Rock</td>\n",
       "      <td>NaN</td>\n",
       "    </tr>\n",
       "    <tr>\n",
       "      <th>3</th>\n",
       "      <td>21919321</td>\n",
       "      <td>4500000.0</td>\n",
       "      <td>85646</td>\n",
       "      <td>-111.035925</td>\n",
       "      <td>31.645878</td>\n",
       "      <td>636.67</td>\n",
       "      <td>8418.58</td>\n",
       "      <td>1930</td>\n",
       "      <td>7</td>\n",
       "      <td>5.0</td>\n",
       "      <td>9019.0</td>\n",
       "      <td>4.0</td>\n",
       "      <td>Dishwasher, Double Sink, Pantry: Butler, Refri...</td>\n",
       "      <td>4.0</td>\n",
       "      <td>Ceramic Tile, Laminate, Wood</td>\n",
       "      <td>NaN</td>\n",
       "    </tr>\n",
       "    <tr>\n",
       "      <th>4</th>\n",
       "      <td>21306357</td>\n",
       "      <td>3411450.0</td>\n",
       "      <td>85750</td>\n",
       "      <td>-110.813768</td>\n",
       "      <td>32.285162</td>\n",
       "      <td>3.21</td>\n",
       "      <td>15393.00</td>\n",
       "      <td>1995</td>\n",
       "      <td>4</td>\n",
       "      <td>6.0</td>\n",
       "      <td>6396.0</td>\n",
       "      <td>3.0</td>\n",
       "      <td>Dishwasher, Garbage Disposal, Refrigerator, Mi...</td>\n",
       "      <td>5.0</td>\n",
       "      <td>Carpet, Concrete</td>\n",
       "      <td>55.00</td>\n",
       "    </tr>\n",
       "    <tr>\n",
       "      <th>5</th>\n",
       "      <td>21528016</td>\n",
       "      <td>3250000.0</td>\n",
       "      <td>85718</td>\n",
       "      <td>-110.910593</td>\n",
       "      <td>32.339090</td>\n",
       "      <td>1.67</td>\n",
       "      <td>27802.84</td>\n",
       "      <td>1999</td>\n",
       "      <td>3</td>\n",
       "      <td>4.0</td>\n",
       "      <td>6842.0</td>\n",
       "      <td>3.0</td>\n",
       "      <td>Dishwasher, Garbage Disposal, Refrigerator, Mi...</td>\n",
       "      <td>5.0</td>\n",
       "      <td>Natural Stone, Wood, Other</td>\n",
       "      <td>422.00</td>\n",
       "    </tr>\n",
       "    <tr>\n",
       "      <th>6</th>\n",
       "      <td>21610478</td>\n",
       "      <td>2400000.0</td>\n",
       "      <td>85712</td>\n",
       "      <td>-110.883315</td>\n",
       "      <td>32.261069</td>\n",
       "      <td>2.10</td>\n",
       "      <td>19038.42</td>\n",
       "      <td>2001</td>\n",
       "      <td>9</td>\n",
       "      <td>8.0</td>\n",
       "      <td>12025.0</td>\n",
       "      <td>4.0</td>\n",
       "      <td>Dishwasher, Garbage Disposal, Oven</td>\n",
       "      <td>6.0</td>\n",
       "      <td>Carpet, Natural Stone, Wood, Other</td>\n",
       "      <td>0.00</td>\n",
       "    </tr>\n",
       "    <tr>\n",
       "      <th>7</th>\n",
       "      <td>21211741</td>\n",
       "      <td>2500000.0</td>\n",
       "      <td>85750</td>\n",
       "      <td>-110.861002</td>\n",
       "      <td>32.331603</td>\n",
       "      <td>1.07</td>\n",
       "      <td>21646.00</td>\n",
       "      <td>2011</td>\n",
       "      <td>6</td>\n",
       "      <td>8.0</td>\n",
       "      <td>8921.0</td>\n",
       "      <td>4.0</td>\n",
       "      <td>Compactor, Dishwasher, Freezer, Garbage Dispos...</td>\n",
       "      <td>5.0</td>\n",
       "      <td>Carpet, Natural Stone, Wood</td>\n",
       "      <td>220.00</td>\n",
       "    </tr>\n",
       "    <tr>\n",
       "      <th>8</th>\n",
       "      <td>21324646</td>\n",
       "      <td>3700000.0</td>\n",
       "      <td>85718</td>\n",
       "      <td>-110.912156</td>\n",
       "      <td>32.343601</td>\n",
       "      <td>6.73</td>\n",
       "      <td>25094.39</td>\n",
       "      <td>2002</td>\n",
       "      <td>5</td>\n",
       "      <td>7.0</td>\n",
       "      <td>5238.0</td>\n",
       "      <td>3.0</td>\n",
       "      <td>Compactor, Dishwasher, Freezer, Garbage Dispos...</td>\n",
       "      <td>1.0</td>\n",
       "      <td>Carpet, Natural Stone, Wood, Other</td>\n",
       "      <td>421.00</td>\n",
       "    </tr>\n",
       "    <tr>\n",
       "      <th>9</th>\n",
       "      <td>21812010</td>\n",
       "      <td>3250000.0</td>\n",
       "      <td>85750</td>\n",
       "      <td>-110.837950</td>\n",
       "      <td>32.327575</td>\n",
       "      <td>3.53</td>\n",
       "      <td>18936.11</td>\n",
       "      <td>2007</td>\n",
       "      <td>5</td>\n",
       "      <td>6.0</td>\n",
       "      <td>6480.0</td>\n",
       "      <td>3.0</td>\n",
       "      <td>Dishwasher, Double Sink, Electric Range, Freez...</td>\n",
       "      <td>2.0</td>\n",
       "      <td>Carpet, Concrete</td>\n",
       "      <td>141.67</td>\n",
       "    </tr>\n",
       "  </tbody>\n",
       "</table>\n",
       "</div>"
      ],
      "text/plain": [
       "        MLS  sold_price  zipcode   longitude   latitude  lot_acres     taxes  \\\n",
       "0  21530491   5300000.0    85637 -110.378200  31.356362    2154.00   5272.00   \n",
       "1  21529082   4200000.0    85646 -111.045371  31.594213    1707.00  10422.36   \n",
       "2   3054672   4200000.0    85646 -111.040707  31.594844    1707.00  10482.00   \n",
       "3  21919321   4500000.0    85646 -111.035925  31.645878     636.67   8418.58   \n",
       "4  21306357   3411450.0    85750 -110.813768  32.285162       3.21  15393.00   \n",
       "5  21528016   3250000.0    85718 -110.910593  32.339090       1.67  27802.84   \n",
       "6  21610478   2400000.0    85712 -110.883315  32.261069       2.10  19038.42   \n",
       "7  21211741   2500000.0    85750 -110.861002  32.331603       1.07  21646.00   \n",
       "8  21324646   3700000.0    85718 -110.912156  32.343601       6.73  25094.39   \n",
       "9  21812010   3250000.0    85750 -110.837950  32.327575       3.53  18936.11   \n",
       "\n",
       "   year_built  bedrooms  bathrooms  sqrt_ft  garage  \\\n",
       "0        1941        13       10.0  10500.0     0.0   \n",
       "1        1997         2        2.0   7300.0     0.0   \n",
       "2        1997         2        3.0      NaN     NaN   \n",
       "3        1930         7        5.0   9019.0     4.0   \n",
       "4        1995         4        6.0   6396.0     3.0   \n",
       "5        1999         3        4.0   6842.0     3.0   \n",
       "6        2001         9        8.0  12025.0     4.0   \n",
       "7        2011         6        8.0   8921.0     4.0   \n",
       "8        2002         5        7.0   5238.0     3.0   \n",
       "9        2007         5        6.0   6480.0     3.0   \n",
       "\n",
       "                                    kitchen_features  fireplaces  \\\n",
       "0            Dishwasher, Freezer, Refrigerator, Oven         6.0   \n",
       "1                       Dishwasher, Garbage Disposal         5.0   \n",
       "2         Dishwasher, Garbage Disposal, Refrigerator         5.0   \n",
       "3  Dishwasher, Double Sink, Pantry: Butler, Refri...         4.0   \n",
       "4  Dishwasher, Garbage Disposal, Refrigerator, Mi...         5.0   \n",
       "5  Dishwasher, Garbage Disposal, Refrigerator, Mi...         5.0   \n",
       "6                 Dishwasher, Garbage Disposal, Oven         6.0   \n",
       "7  Compactor, Dishwasher, Freezer, Garbage Dispos...         5.0   \n",
       "8  Compactor, Dishwasher, Freezer, Garbage Dispos...         1.0   \n",
       "9  Dishwasher, Double Sink, Electric Range, Freez...         2.0   \n",
       "\n",
       "                       floor_covering     HOA  \n",
       "0                  Mexican Tile, Wood    0.00  \n",
       "1                Natural Stone, Other    0.00  \n",
       "2          Natural Stone, Other: Rock     NaN  \n",
       "3        Ceramic Tile, Laminate, Wood     NaN  \n",
       "4                    Carpet, Concrete   55.00  \n",
       "5          Natural Stone, Wood, Other  422.00  \n",
       "6  Carpet, Natural Stone, Wood, Other    0.00  \n",
       "7         Carpet, Natural Stone, Wood  220.00  \n",
       "8  Carpet, Natural Stone, Wood, Other  421.00  \n",
       "9                    Carpet, Concrete  141.67  "
      ]
     },
     "execution_count": 9,
     "metadata": {},
     "output_type": "execute_result"
    }
   ],
   "source": [
    "data.head(10)"
   ]
  },
  {
   "cell_type": "markdown",
   "metadata": {},
   "source": [
    "Lets check the two colums kitchen_features and floor_covering if they had any numeric value. If they have any numeric value that value we do not want and we will make them null."
   ]
  },
  {
   "cell_type": "code",
   "execution_count": 10,
   "metadata": {},
   "outputs": [],
   "source": [
    "NM_kitchen_features= pd.to_numeric(data['kitchen_features'],errors = 'coerce')\n",
    "NM_floor_covering = pd.to_numeric(data['floor_covering'],errors = 'coerce')"
   ]
  },
  {
   "cell_type": "code",
   "execution_count": 11,
   "metadata": {},
   "outputs": [
    {
     "data": {
      "text/plain": [
       "5000"
      ]
     },
     "execution_count": 11,
     "metadata": {},
     "output_type": "execute_result"
    }
   ],
   "source": [
    "NM_kitchen_features.isnull().sum()"
   ]
  },
  {
   "cell_type": "code",
   "execution_count": 12,
   "metadata": {},
   "outputs": [
    {
     "data": {
      "text/plain": [
       "5000"
      ]
     },
     "execution_count": 12,
     "metadata": {},
     "output_type": "execute_result"
    }
   ],
   "source": [
    "NM_floor_covering.isnull().sum()"
   ]
  },
  {
   "cell_type": "markdown",
   "metadata": {},
   "source": [
    "It means that there are no numeric value in 'kitchen_features' and 'floor_covering'. It doesn't mean that there is no missing value. We can check if there is any string \"None\"."
   ]
  },
  {
   "cell_type": "code",
   "execution_count": 13,
   "metadata": {},
   "outputs": [],
   "source": [
    "NMM_floor_covering=data['floor_covering'].replace(\"None\",np.nan)"
   ]
  },
  {
   "cell_type": "code",
   "execution_count": 14,
   "metadata": {},
   "outputs": [
    {
     "data": {
      "text/plain": [
       "1"
      ]
     },
     "execution_count": 14,
     "metadata": {},
     "output_type": "execute_result"
    }
   ],
   "source": [
    "NMM_floor_covering.isnull().sum()"
   ]
  },
  {
   "cell_type": "code",
   "execution_count": 15,
   "metadata": {},
   "outputs": [
    {
     "data": {
      "text/plain": [
       "33"
      ]
     },
     "execution_count": 15,
     "metadata": {},
     "output_type": "execute_result"
    }
   ],
   "source": [
    "NMM_kitchen_features=data['kitchen_features'].replace(\"None\",np.nan)\n",
    "NMM_kitchen_features.isnull().sum()"
   ]
  },
  {
   "cell_type": "markdown",
   "metadata": {},
   "source": [
    "Thus the two columns have some missing values and we need to convert them to Null value to be consistent with the other columns."
   ]
  },
  {
   "cell_type": "code",
   "execution_count": 16,
   "metadata": {},
   "outputs": [],
   "source": [
    "data['floor_covering'].replace(\"None\",np.nan,inplace=True)\n",
    "data['kitchen_features'].replace(\"None\",np.nan, inplace=True)"
   ]
  },
  {
   "cell_type": "code",
   "execution_count": 17,
   "metadata": {},
   "outputs": [
    {
     "name": "stdout",
     "output_type": "stream",
     "text": [
      "<class 'pandas.core.frame.DataFrame'>\n",
      "RangeIndex: 5000 entries, 0 to 4999\n",
      "Data columns (total 16 columns):\n",
      "MLS                 5000 non-null int64\n",
      "sold_price          5000 non-null float64\n",
      "zipcode             5000 non-null int64\n",
      "longitude           5000 non-null float64\n",
      "latitude            5000 non-null float64\n",
      "lot_acres           4990 non-null float64\n",
      "taxes               5000 non-null float64\n",
      "year_built          5000 non-null int64\n",
      "bedrooms            5000 non-null int64\n",
      "bathrooms           4994 non-null float64\n",
      "sqrt_ft             4944 non-null float64\n",
      "garage              4993 non-null float64\n",
      "kitchen_features    4967 non-null object\n",
      "fireplaces          4975 non-null float64\n",
      "floor_covering      4999 non-null object\n",
      "HOA                 4420 non-null float64\n",
      "dtypes: float64(10), int64(4), object(2)\n",
      "memory usage: 625.1+ KB\n"
     ]
    }
   ],
   "source": [
    "# Lets look at the data \n",
    "data.info()"
   ]
  },
  {
   "cell_type": "markdown",
   "metadata": {},
   "source": [
    "In 'lot_acres','tax' and 'year built' column the minimum value is 0. Surely these values cannot be zero."
   ]
  },
  {
   "cell_type": "code",
   "execution_count": 18,
   "metadata": {},
   "outputs": [
    {
     "name": "stdout",
     "output_type": "stream",
     "text": [
      "35\n",
      "22\n",
      "5\n"
     ]
    }
   ],
   "source": [
    "print(data[data['lot_acres']==0]['lot_acres'].count())\n",
    "print(data[data['taxes']==0]['taxes'].count())\n",
    "print(data[data['year_built']==0]['year_built'].count())"
   ]
  },
  {
   "cell_type": "markdown",
   "metadata": {},
   "source": [
    "So, \n",
    "There are 35 houses with 'lot acres' is zero.\n",
    "There are 22 houses with 'taxes' is zero.\n",
    "There are 22 houses with 'year_built' is zero.\n",
    "\n",
    "We can idetify them as missing values."
   ]
  },
  {
   "cell_type": "code",
   "execution_count": 19,
   "metadata": {},
   "outputs": [],
   "source": [
    "data['lot_acres'].replace(0,np.nan, inplace=True)\n",
    "data['taxes'].replace(0,np.nan, inplace=True)\n",
    "data['year_built'].replace(0,np.nan, inplace=True)"
   ]
  },
  {
   "cell_type": "markdown",
   "metadata": {},
   "source": [
    "Just check if the zero values are removed or not."
   ]
  },
  {
   "cell_type": "code",
   "execution_count": 20,
   "metadata": {},
   "outputs": [
    {
     "name": "stdout",
     "output_type": "stream",
     "text": [
      "0\n",
      "0\n",
      "0\n"
     ]
    }
   ],
   "source": [
    "print(data[data['lot_acres']==0]['lot_acres'].count())\n",
    "print(data[data['taxes']==0]['taxes'].count())\n",
    "print(data[data['year_built']==0]['year_built'].count())"
   ]
  },
  {
   "cell_type": "code",
   "execution_count": 21,
   "metadata": {},
   "outputs": [
    {
     "data": {
      "text/html": [
       "<div>\n",
       "<style scoped>\n",
       "    .dataframe tbody tr th:only-of-type {\n",
       "        vertical-align: middle;\n",
       "    }\n",
       "\n",
       "    .dataframe tbody tr th {\n",
       "        vertical-align: top;\n",
       "    }\n",
       "\n",
       "    .dataframe thead th {\n",
       "        text-align: right;\n",
       "    }\n",
       "</style>\n",
       "<table border=\"1\" class=\"dataframe\">\n",
       "  <thead>\n",
       "    <tr style=\"text-align: right;\">\n",
       "      <th></th>\n",
       "      <th>MLS</th>\n",
       "      <th>sold_price</th>\n",
       "      <th>zipcode</th>\n",
       "      <th>longitude</th>\n",
       "      <th>latitude</th>\n",
       "      <th>lot_acres</th>\n",
       "      <th>taxes</th>\n",
       "      <th>year_built</th>\n",
       "      <th>bedrooms</th>\n",
       "      <th>bathrooms</th>\n",
       "      <th>sqrt_ft</th>\n",
       "      <th>garage</th>\n",
       "      <th>fireplaces</th>\n",
       "      <th>HOA</th>\n",
       "    </tr>\n",
       "  </thead>\n",
       "  <tbody>\n",
       "    <tr>\n",
       "      <th>count</th>\n",
       "      <td>5.000000e+03</td>\n",
       "      <td>5.000000e+03</td>\n",
       "      <td>5000.000000</td>\n",
       "      <td>5000.000000</td>\n",
       "      <td>5000.000000</td>\n",
       "      <td>4955.000000</td>\n",
       "      <td>4.978000e+03</td>\n",
       "      <td>4995.000000</td>\n",
       "      <td>5000.000000</td>\n",
       "      <td>4994.000000</td>\n",
       "      <td>4944.000000</td>\n",
       "      <td>4993.000000</td>\n",
       "      <td>4975.000000</td>\n",
       "      <td>4420.000000</td>\n",
       "    </tr>\n",
       "    <tr>\n",
       "      <th>mean</th>\n",
       "      <td>2.127070e+07</td>\n",
       "      <td>7.746262e+05</td>\n",
       "      <td>85723.025600</td>\n",
       "      <td>-110.912107</td>\n",
       "      <td>32.308512</td>\n",
       "      <td>4.694242</td>\n",
       "      <td>9.444383e+03</td>\n",
       "      <td>1994.322322</td>\n",
       "      <td>3.933800</td>\n",
       "      <td>3.829896</td>\n",
       "      <td>3716.366828</td>\n",
       "      <td>2.816143</td>\n",
       "      <td>1.885226</td>\n",
       "      <td>82.815857</td>\n",
       "    </tr>\n",
       "    <tr>\n",
       "      <th>std</th>\n",
       "      <td>2.398508e+06</td>\n",
       "      <td>3.185556e+05</td>\n",
       "      <td>38.061712</td>\n",
       "      <td>0.120629</td>\n",
       "      <td>0.178028</td>\n",
       "      <td>51.865996</td>\n",
       "      <td>1.733192e+05</td>\n",
       "      <td>17.737253</td>\n",
       "      <td>1.245362</td>\n",
       "      <td>1.387063</td>\n",
       "      <td>1120.683515</td>\n",
       "      <td>1.192946</td>\n",
       "      <td>1.136578</td>\n",
       "      <td>92.380597</td>\n",
       "    </tr>\n",
       "    <tr>\n",
       "      <th>min</th>\n",
       "      <td>3.042851e+06</td>\n",
       "      <td>1.690000e+05</td>\n",
       "      <td>85118.000000</td>\n",
       "      <td>-112.520168</td>\n",
       "      <td>31.356362</td>\n",
       "      <td>0.020000</td>\n",
       "      <td>1.000000e+00</td>\n",
       "      <td>1893.000000</td>\n",
       "      <td>1.000000</td>\n",
       "      <td>1.000000</td>\n",
       "      <td>1100.000000</td>\n",
       "      <td>0.000000</td>\n",
       "      <td>0.000000</td>\n",
       "      <td>0.000000</td>\n",
       "    </tr>\n",
       "    <tr>\n",
       "      <th>25%</th>\n",
       "      <td>2.140718e+07</td>\n",
       "      <td>5.850000e+05</td>\n",
       "      <td>85718.000000</td>\n",
       "      <td>-110.979260</td>\n",
       "      <td>32.277484</td>\n",
       "      <td>0.590000</td>\n",
       "      <td>4.822200e+03</td>\n",
       "      <td>1987.000000</td>\n",
       "      <td>3.000000</td>\n",
       "      <td>3.000000</td>\n",
       "      <td>3047.000000</td>\n",
       "      <td>2.000000</td>\n",
       "      <td>1.000000</td>\n",
       "      <td>8.000000</td>\n",
       "    </tr>\n",
       "    <tr>\n",
       "      <th>50%</th>\n",
       "      <td>2.161469e+07</td>\n",
       "      <td>6.750000e+05</td>\n",
       "      <td>85737.000000</td>\n",
       "      <td>-110.923420</td>\n",
       "      <td>32.318517</td>\n",
       "      <td>0.990000</td>\n",
       "      <td>6.243165e+03</td>\n",
       "      <td>1999.000000</td>\n",
       "      <td>4.000000</td>\n",
       "      <td>4.000000</td>\n",
       "      <td>3512.000000</td>\n",
       "      <td>3.000000</td>\n",
       "      <td>2.000000</td>\n",
       "      <td>55.000000</td>\n",
       "    </tr>\n",
       "    <tr>\n",
       "      <th>75%</th>\n",
       "      <td>2.180480e+07</td>\n",
       "      <td>8.350000e+05</td>\n",
       "      <td>85749.000000</td>\n",
       "      <td>-110.859078</td>\n",
       "      <td>32.394334</td>\n",
       "      <td>1.775000</td>\n",
       "      <td>8.099500e+03</td>\n",
       "      <td>2006.000000</td>\n",
       "      <td>4.000000</td>\n",
       "      <td>4.000000</td>\n",
       "      <td>4130.250000</td>\n",
       "      <td>3.000000</td>\n",
       "      <td>3.000000</td>\n",
       "      <td>134.000000</td>\n",
       "    </tr>\n",
       "    <tr>\n",
       "      <th>max</th>\n",
       "      <td>2.192856e+07</td>\n",
       "      <td>5.300000e+06</td>\n",
       "      <td>86323.000000</td>\n",
       "      <td>-109.454637</td>\n",
       "      <td>34.927884</td>\n",
       "      <td>2154.000000</td>\n",
       "      <td>1.221508e+07</td>\n",
       "      <td>2019.000000</td>\n",
       "      <td>36.000000</td>\n",
       "      <td>36.000000</td>\n",
       "      <td>22408.000000</td>\n",
       "      <td>30.000000</td>\n",
       "      <td>9.000000</td>\n",
       "      <td>925.000000</td>\n",
       "    </tr>\n",
       "  </tbody>\n",
       "</table>\n",
       "</div>"
      ],
      "text/plain": [
       "                MLS    sold_price       zipcode    longitude     latitude  \\\n",
       "count  5.000000e+03  5.000000e+03   5000.000000  5000.000000  5000.000000   \n",
       "mean   2.127070e+07  7.746262e+05  85723.025600  -110.912107    32.308512   \n",
       "std    2.398508e+06  3.185556e+05     38.061712     0.120629     0.178028   \n",
       "min    3.042851e+06  1.690000e+05  85118.000000  -112.520168    31.356362   \n",
       "25%    2.140718e+07  5.850000e+05  85718.000000  -110.979260    32.277484   \n",
       "50%    2.161469e+07  6.750000e+05  85737.000000  -110.923420    32.318517   \n",
       "75%    2.180480e+07  8.350000e+05  85749.000000  -110.859078    32.394334   \n",
       "max    2.192856e+07  5.300000e+06  86323.000000  -109.454637    34.927884   \n",
       "\n",
       "         lot_acres         taxes   year_built     bedrooms    bathrooms  \\\n",
       "count  4955.000000  4.978000e+03  4995.000000  5000.000000  4994.000000   \n",
       "mean      4.694242  9.444383e+03  1994.322322     3.933800     3.829896   \n",
       "std      51.865996  1.733192e+05    17.737253     1.245362     1.387063   \n",
       "min       0.020000  1.000000e+00  1893.000000     1.000000     1.000000   \n",
       "25%       0.590000  4.822200e+03  1987.000000     3.000000     3.000000   \n",
       "50%       0.990000  6.243165e+03  1999.000000     4.000000     4.000000   \n",
       "75%       1.775000  8.099500e+03  2006.000000     4.000000     4.000000   \n",
       "max    2154.000000  1.221508e+07  2019.000000    36.000000    36.000000   \n",
       "\n",
       "            sqrt_ft       garage   fireplaces          HOA  \n",
       "count   4944.000000  4993.000000  4975.000000  4420.000000  \n",
       "mean    3716.366828     2.816143     1.885226    82.815857  \n",
       "std     1120.683515     1.192946     1.136578    92.380597  \n",
       "min     1100.000000     0.000000     0.000000     0.000000  \n",
       "25%     3047.000000     2.000000     1.000000     8.000000  \n",
       "50%     3512.000000     3.000000     2.000000    55.000000  \n",
       "75%     4130.250000     3.000000     3.000000   134.000000  \n",
       "max    22408.000000    30.000000     9.000000   925.000000  "
      ]
     },
     "execution_count": 21,
     "metadata": {},
     "output_type": "execute_result"
    }
   ],
   "source": [
    "data.describe()"
   ]
  },
  {
   "cell_type": "markdown",
   "metadata": {},
   "source": []
  },
  {
   "cell_type": "markdown",
   "metadata": {},
   "source": [
    "## Indentifying outliers"
   ]
  },
  {
   "cell_type": "markdown",
   "metadata": {},
   "source": [
    "Scatter plot is used."
   ]
  },
  {
   "cell_type": "code",
   "execution_count": 22,
   "metadata": {},
   "outputs": [
    {
     "data": {
      "text/plain": [
       "Text(0.5, 1.0, 'Sold Prices vs lot acres')"
      ]
     },
     "execution_count": 22,
     "metadata": {},
     "output_type": "execute_result"
    },
    {
     "data": {
      "image/png": "[encoded data removed]",
      "text/plain": [
       "<Figure size 432x288 with 1 Axes>"
      ]
     },
     "metadata": {
      "needs_background": "light"
     },
     "output_type": "display_data"
    }
   ],
   "source": [
    "#sns.boxplot(x=data['lot_acres'])\n",
    "plt.scatter(data['lot_acres'],data['sold_price'], marker='o');\n",
    "plt.xlabel('Lot acres') \n",
    "plt.ylabel('Sold price')\n",
    "plt.title(\"Sold Prices vs lot acres\")"
   ]
  },
  {
   "cell_type": "code",
   "execution_count": 23,
   "metadata": {},
   "outputs": [
    {
     "data": {
      "text/plain": [
       "Text(0.5, 1.0, 'Sold Prices vs Taxes')"
      ]
     },
     "execution_count": 23,
     "metadata": {},
     "output_type": "execute_result"
    },
    {
     "data": {
      "image/png": "[encoded data removed]",
      "text/plain": [
       "<Figure size 432x288 with 1 Axes>"
      ]
     },
     "metadata": {
      "needs_background": "light"
     },
     "output_type": "display_data"
    }
   ],
   "source": [
    "plt.scatter(data['taxes'],data['sold_price'], marker='o');\n",
    "plt.xlabel('Taxes') \n",
    "plt.ylabel('Sold price')\n",
    "plt.title(\"Sold Prices vs Taxes\")"
   ]
  },
  {
   "cell_type": "markdown",
   "metadata": {},
   "source": [
    "It seems that there are some otliers in the tax column. We will count and remove them."
   ]
  },
  {
   "cell_type": "code",
   "execution_count": 24,
   "metadata": {},
   "outputs": [
    {
     "data": {
      "text/plain": [
       "2"
      ]
     },
     "execution_count": 24,
     "metadata": {},
     "output_type": "execute_result"
    }
   ],
   "source": [
    "data['taxes'][data['taxes']>0.05e7].count()"
   ]
  },
  {
   "cell_type": "code",
   "execution_count": 25,
   "metadata": {},
   "outputs": [
    {
     "data": {
      "text/plain": [
       "Text(0.5, 1.0, 'Sold Prices vs MLS')"
      ]
     },
     "execution_count": 25,
     "metadata": {},
     "output_type": "execute_result"
    },
    {
     "data": {
      "image/png": "[encoded data removed]",
      "text/plain": [
       "<Figure size 432x288 with 1 Axes>"
      ]
     },
     "metadata": {
      "needs_background": "light"
     },
     "output_type": "display_data"
    }
   ],
   "source": [
    "plt.scatter(data['MLS'],data['sold_price'], marker='o');\n",
    "plt.xlabel('MLS') \n",
    "plt.ylabel('Sold price')\n",
    "plt.title(\"Sold Prices vs MLS\")"
   ]
  },
  {
   "cell_type": "code",
   "execution_count": 26,
   "metadata": {},
   "outputs": [
    {
     "data": {
      "text/plain": [
       "Text(0.5, 1.0, 'Sold Prices vs Bedrooms')"
      ]
     },
     "execution_count": 26,
     "metadata": {},
     "output_type": "execute_result"
    },
    {
     "data": {
      "image/png": "[encoded data removed]",
      "text/plain": [
       "<Figure size 432x288 with 1 Axes>"
      ]
     },
     "metadata": {
      "needs_background": "light"
     },
     "output_type": "display_data"
    }
   ],
   "source": [
    "plt.scatter(data['bedrooms'],data['sold_price'], marker='o');\n",
    "plt.xlabel('bedrooms') \n",
    "plt.ylabel('Sold price')\n",
    "plt.title(\"Sold Prices vs Bedrooms\")"
   ]
  },
  {
   "cell_type": "markdown",
   "metadata": {},
   "source": [
    "It seems that several values on bedroom column seems to outlier. We need to count and remove them"
   ]
  },
  {
   "cell_type": "code",
   "execution_count": 27,
   "metadata": {},
   "outputs": [
    {
     "data": {
      "text/plain": [
       "3"
      ]
     },
     "execution_count": 27,
     "metadata": {},
     "output_type": "execute_result"
    }
   ],
   "source": [
    "data['bedrooms'][data['bedrooms']>25].count()"
   ]
  },
  {
   "cell_type": "markdown",
   "metadata": {},
   "source": [
    "There are atleast 3 outlier values."
   ]
  },
  {
   "cell_type": "code",
   "execution_count": 28,
   "metadata": {},
   "outputs": [
    {
     "data": {
      "text/plain": [
       "Text(0, 0.5, 'Sold price')"
      ]
     },
     "execution_count": 28,
     "metadata": {},
     "output_type": "execute_result"
    },
    {
     "data": {
      "image/png": "[encoded data removed]",
      "text/plain": [
       "<Figure size 432x288 with 1 Axes>"
      ]
     },
     "metadata": {
      "needs_background": "light"
     },
     "output_type": "display_data"
    }
   ],
   "source": [
    "plt.scatter(data['garage'],data['sold_price'], marker='o');\n",
    "plt.xlabel('garage') \n",
    "plt.ylabel('Sold price')"
   ]
  },
  {
   "cell_type": "code",
   "execution_count": 29,
   "metadata": {},
   "outputs": [
    {
     "data": {
      "text/plain": [
       "Text(0.5, 1.0, 'Sold Prices vs Bathrooms')"
      ]
     },
     "execution_count": 29,
     "metadata": {},
     "output_type": "execute_result"
    },
    {
     "data": {
      "image/png": "[encoded data removed]",
      "text/plain": [
       "<Figure size 432x288 with 1 Axes>"
      ]
     },
     "metadata": {
      "needs_background": "light"
     },
     "output_type": "display_data"
    }
   ],
   "source": [
    "plt.scatter(data['bathrooms'],data['sold_price'], marker='o');\n",
    "plt.xlabel('bathrooms') \n",
    "plt.ylabel('Sold price')\n",
    "plt.title(\"Sold Prices vs Bathrooms\")"
   ]
  },
  {
   "cell_type": "code",
   "execution_count": 30,
   "metadata": {},
   "outputs": [
    {
     "data": {
      "text/plain": [
       "Text(0.5, 1.0, 'Sold Prices vs HOA')"
      ]
     },
     "execution_count": 30,
     "metadata": {},
     "output_type": "execute_result"
    },
    {
     "data": {
      "image/png": "[encoded data removed]",
      "text/plain": [
       "<Figure size 432x288 with 1 Axes>"
      ]
     },
     "metadata": {
      "needs_background": "light"
     },
     "output_type": "display_data"
    }
   ],
   "source": [
    "plt.scatter(data['HOA'],data['sold_price'], marker='o');\n",
    "plt.xlabel('HOA') \n",
    "plt.ylabel('Sold price')\n",
    "plt.title(\"Sold Prices vs HOA\")"
   ]
  },
  {
   "cell_type": "code",
   "execution_count": 31,
   "metadata": {},
   "outputs": [
    {
     "data": {
      "text/plain": [
       "Text(0.5, 1.0, \"'bathrooms' vs 'bedrooms'\")"
      ]
     },
     "execution_count": 31,
     "metadata": {},
     "output_type": "execute_result"
    },
    {
     "data": {
      "image/png": "[encoded data removed]",
      "text/plain": [
       "<Figure size 432x288 with 1 Axes>"
      ]
     },
     "metadata": {
      "needs_background": "light"
     },
     "output_type": "display_data"
    }
   ],
   "source": [
    "plt.scatter(data['bathrooms'],data['bedrooms'], marker='o');\n",
    "plt.xlabel('bathrooms') \n",
    "plt.ylabel('bedrooms')\n",
    "plt.title(\"'bathrooms' vs 'bedrooms'\")"
   ]
  },
  {
   "cell_type": "code",
   "execution_count": 32,
   "metadata": {},
   "outputs": [
    {
     "data": {
      "image/png": "[encoded data removed]",
      "text/plain": [
       "<Figure size 432x288 with 1 Axes>"
      ]
     },
     "metadata": {
      "needs_background": "light"
     },
     "output_type": "display_data"
    }
   ],
   "source": [
    "plt.scatter(data['longitude'],data['latitude'], marker='o');"
   ]
  },
  {
   "cell_type": "markdown",
   "metadata": {},
   "source": [
    "## Replacing/Removing missing/outliers values"
   ]
  },
  {
   "cell_type": "markdown",
   "metadata": {},
   "source": [
    "We have removed the data where lot_acres, kitchen_feature and floor_covering is missing. "
   ]
  },
  {
   "cell_type": "code",
   "execution_count": 33,
   "metadata": {},
   "outputs": [],
   "source": [
    "data.dropna(subset=['kitchen_features', 'floor_covering'],inplace=True)"
   ]
  },
  {
   "cell_type": "code",
   "execution_count": 34,
   "metadata": {},
   "outputs": [
    {
     "name": "stdout",
     "output_type": "stream",
     "text": [
      "<class 'pandas.core.frame.DataFrame'>\n",
      "Int64Index: 4967 entries, 0 to 4999\n",
      "Data columns (total 16 columns):\n",
      "MLS                 4967 non-null int64\n",
      "sold_price          4967 non-null float64\n",
      "zipcode             4967 non-null int64\n",
      "longitude           4967 non-null float64\n",
      "latitude            4967 non-null float64\n",
      "lot_acres           4922 non-null float64\n",
      "taxes               4945 non-null float64\n",
      "year_built          4962 non-null float64\n",
      "bedrooms            4967 non-null int64\n",
      "bathrooms           4962 non-null float64\n",
      "sqrt_ft             4912 non-null float64\n",
      "garage              4960 non-null float64\n",
      "kitchen_features    4967 non-null object\n",
      "fireplaces          4943 non-null float64\n",
      "floor_covering      4967 non-null object\n",
      "HOA                 4391 non-null float64\n",
      "dtypes: float64(11), int64(3), object(2)\n",
      "memory usage: 659.7+ KB\n"
     ]
    }
   ],
   "source": [
    "data.info()"
   ]
  },
  {
   "cell_type": "markdown",
   "metadata": {},
   "source": []
  },
  {
   "cell_type": "code",
   "execution_count": 35,
   "metadata": {},
   "outputs": [
    {
     "data": {
      "text/html": [
       "<div>\n",
       "<style scoped>\n",
       "    .dataframe tbody tr th:only-of-type {\n",
       "        vertical-align: middle;\n",
       "    }\n",
       "\n",
       "    .dataframe tbody tr th {\n",
       "        vertical-align: top;\n",
       "    }\n",
       "\n",
       "    .dataframe thead th {\n",
       "        text-align: right;\n",
       "    }\n",
       "</style>\n",
       "<table border=\"1\" class=\"dataframe\">\n",
       "  <thead>\n",
       "    <tr style=\"text-align: right;\">\n",
       "      <th></th>\n",
       "      <th>MLS</th>\n",
       "      <th>sold_price</th>\n",
       "      <th>zipcode</th>\n",
       "      <th>longitude</th>\n",
       "      <th>latitude</th>\n",
       "      <th>lot_acres</th>\n",
       "      <th>taxes</th>\n",
       "      <th>year_built</th>\n",
       "      <th>bedrooms</th>\n",
       "      <th>bathrooms</th>\n",
       "      <th>sqrt_ft</th>\n",
       "      <th>garage</th>\n",
       "      <th>fireplaces</th>\n",
       "      <th>HOA</th>\n",
       "    </tr>\n",
       "  </thead>\n",
       "  <tbody>\n",
       "    <tr>\n",
       "      <th>count</th>\n",
       "      <td>4.967000e+03</td>\n",
       "      <td>4.967000e+03</td>\n",
       "      <td>4967.000000</td>\n",
       "      <td>4967.000000</td>\n",
       "      <td>4967.000000</td>\n",
       "      <td>4922.000000</td>\n",
       "      <td>4.945000e+03</td>\n",
       "      <td>4962.000000</td>\n",
       "      <td>4967.000000</td>\n",
       "      <td>4962.000000</td>\n",
       "      <td>4912.000000</td>\n",
       "      <td>4960.000000</td>\n",
       "      <td>4943.000000</td>\n",
       "      <td>4391.000000</td>\n",
       "    </tr>\n",
       "    <tr>\n",
       "      <th>mean</th>\n",
       "      <td>2.127329e+07</td>\n",
       "      <td>7.750120e+05</td>\n",
       "      <td>85723.078921</td>\n",
       "      <td>-110.911933</td>\n",
       "      <td>32.309100</td>\n",
       "      <td>4.669671</td>\n",
       "      <td>9.453159e+03</td>\n",
       "      <td>1994.312979</td>\n",
       "      <td>3.927924</td>\n",
       "      <td>3.823761</td>\n",
       "      <td>3709.263559</td>\n",
       "      <td>2.816835</td>\n",
       "      <td>1.881853</td>\n",
       "      <td>82.654997</td>\n",
       "    </tr>\n",
       "    <tr>\n",
       "      <th>std</th>\n",
       "      <td>2.392432e+06</td>\n",
       "      <td>3.191210e+05</td>\n",
       "      <td>38.045295</td>\n",
       "      <td>0.120679</td>\n",
       "      <td>0.177066</td>\n",
       "      <td>52.012014</td>\n",
       "      <td>1.738962e+05</td>\n",
       "      <td>17.718856</td>\n",
       "      <td>1.229602</td>\n",
       "      <td>1.380285</td>\n",
       "      <td>1107.498886</td>\n",
       "      <td>1.193123</td>\n",
       "      <td>1.133626</td>\n",
       "      <td>91.650756</td>\n",
       "    </tr>\n",
       "    <tr>\n",
       "      <th>min</th>\n",
       "      <td>3.042851e+06</td>\n",
       "      <td>3.000000e+05</td>\n",
       "      <td>85118.000000</td>\n",
       "      <td>-112.520168</td>\n",
       "      <td>31.356362</td>\n",
       "      <td>0.020000</td>\n",
       "      <td>1.000000e+00</td>\n",
       "      <td>1893.000000</td>\n",
       "      <td>1.000000</td>\n",
       "      <td>1.000000</td>\n",
       "      <td>1100.000000</td>\n",
       "      <td>0.000000</td>\n",
       "      <td>0.000000</td>\n",
       "      <td>0.000000</td>\n",
       "    </tr>\n",
       "    <tr>\n",
       "      <th>25%</th>\n",
       "      <td>2.140744e+07</td>\n",
       "      <td>5.850000e+05</td>\n",
       "      <td>85718.000000</td>\n",
       "      <td>-110.979138</td>\n",
       "      <td>32.277778</td>\n",
       "      <td>0.590000</td>\n",
       "      <td>4.822000e+03</td>\n",
       "      <td>1987.000000</td>\n",
       "      <td>3.000000</td>\n",
       "      <td>3.000000</td>\n",
       "      <td>3047.000000</td>\n",
       "      <td>2.000000</td>\n",
       "      <td>1.000000</td>\n",
       "      <td>8.000000</td>\n",
       "    </tr>\n",
       "    <tr>\n",
       "      <th>50%</th>\n",
       "      <td>2.161507e+07</td>\n",
       "      <td>6.750000e+05</td>\n",
       "      <td>85737.000000</td>\n",
       "      <td>-110.923317</td>\n",
       "      <td>32.318525</td>\n",
       "      <td>0.990000</td>\n",
       "      <td>6.234290e+03</td>\n",
       "      <td>1999.000000</td>\n",
       "      <td>4.000000</td>\n",
       "      <td>4.000000</td>\n",
       "      <td>3508.000000</td>\n",
       "      <td>3.000000</td>\n",
       "      <td>2.000000</td>\n",
       "      <td>55.000000</td>\n",
       "    </tr>\n",
       "    <tr>\n",
       "      <th>75%</th>\n",
       "      <td>2.180502e+07</td>\n",
       "      <td>8.350000e+05</td>\n",
       "      <td>85749.000000</td>\n",
       "      <td>-110.858963</td>\n",
       "      <td>32.394589</td>\n",
       "      <td>1.760000</td>\n",
       "      <td>8.085320e+03</td>\n",
       "      <td>2006.000000</td>\n",
       "      <td>4.000000</td>\n",
       "      <td>4.000000</td>\n",
       "      <td>4123.500000</td>\n",
       "      <td>3.000000</td>\n",
       "      <td>3.000000</td>\n",
       "      <td>134.000000</td>\n",
       "    </tr>\n",
       "    <tr>\n",
       "      <th>max</th>\n",
       "      <td>2.192856e+07</td>\n",
       "      <td>5.300000e+06</td>\n",
       "      <td>86323.000000</td>\n",
       "      <td>-109.454637</td>\n",
       "      <td>34.927884</td>\n",
       "      <td>2154.000000</td>\n",
       "      <td>1.221508e+07</td>\n",
       "      <td>2019.000000</td>\n",
       "      <td>36.000000</td>\n",
       "      <td>36.000000</td>\n",
       "      <td>22408.000000</td>\n",
       "      <td>30.000000</td>\n",
       "      <td>9.000000</td>\n",
       "      <td>925.000000</td>\n",
       "    </tr>\n",
       "  </tbody>\n",
       "</table>\n",
       "</div>"
      ],
      "text/plain": [
       "                MLS    sold_price       zipcode    longitude     latitude  \\\n",
       "count  4.967000e+03  4.967000e+03   4967.000000  4967.000000  4967.000000   \n",
       "mean   2.127329e+07  7.750120e+05  85723.078921  -110.911933    32.309100   \n",
       "std    2.392432e+06  3.191210e+05     38.045295     0.120679     0.177066   \n",
       "min    3.042851e+06  3.000000e+05  85118.000000  -112.520168    31.356362   \n",
       "25%    2.140744e+07  5.850000e+05  85718.000000  -110.979138    32.277778   \n",
       "50%    2.161507e+07  6.750000e+05  85737.000000  -110.923317    32.318525   \n",
       "75%    2.180502e+07  8.350000e+05  85749.000000  -110.858963    32.394589   \n",
       "max    2.192856e+07  5.300000e+06  86323.000000  -109.454637    34.927884   \n",
       "\n",
       "         lot_acres         taxes   year_built     bedrooms    bathrooms  \\\n",
       "count  4922.000000  4.945000e+03  4962.000000  4967.000000  4962.000000   \n",
       "mean      4.669671  9.453159e+03  1994.312979     3.927924     3.823761   \n",
       "std      52.012014  1.738962e+05    17.718856     1.229602     1.380285   \n",
       "min       0.020000  1.000000e+00  1893.000000     1.000000     1.000000   \n",
       "25%       0.590000  4.822000e+03  1987.000000     3.000000     3.000000   \n",
       "50%       0.990000  6.234290e+03  1999.000000     4.000000     4.000000   \n",
       "75%       1.760000  8.085320e+03  2006.000000     4.000000     4.000000   \n",
       "max    2154.000000  1.221508e+07  2019.000000    36.000000    36.000000   \n",
       "\n",
       "            sqrt_ft       garage   fireplaces          HOA  \n",
       "count   4912.000000  4960.000000  4943.000000  4391.000000  \n",
       "mean    3709.263559     2.816835     1.881853    82.654997  \n",
       "std     1107.498886     1.193123     1.133626    91.650756  \n",
       "min     1100.000000     0.000000     0.000000     0.000000  \n",
       "25%     3047.000000     2.000000     1.000000     8.000000  \n",
       "50%     3508.000000     3.000000     2.000000    55.000000  \n",
       "75%     4123.500000     3.000000     3.000000   134.000000  \n",
       "max    22408.000000    30.000000     9.000000   925.000000  "
      ]
     },
     "execution_count": 35,
     "metadata": {},
     "output_type": "execute_result"
    }
   ],
   "source": [
    "data.describe()"
   ]
  },
  {
   "cell_type": "code",
   "execution_count": 36,
   "metadata": {},
   "outputs": [
    {
     "name": "stdout",
     "output_type": "stream",
     "text": [
      "0\n",
      "0\n",
      "0\n"
     ]
    }
   ],
   "source": [
    "print(data[data['lot_acres']==0]['lot_acres'].count())\n",
    "print(data[data['taxes']==0]['taxes'].count())\n",
    "print(data[data['year_built']==0]['year_built'].count())"
   ]
  },
  {
   "cell_type": "code",
   "execution_count": 37,
   "metadata": {},
   "outputs": [],
   "source": [
    "median_LTa = data['lot_acres'].median()\n",
    "data['lot_acres'].replace(np.nan,median_LTa, inplace=True)"
   ]
  },
  {
   "cell_type": "code",
   "execution_count": 38,
   "metadata": {},
   "outputs": [
    {
     "name": "stdout",
     "output_type": "stream",
     "text": [
      "0\n"
     ]
    }
   ],
   "source": [
    "print(data[data['lot_acres']==0]['lot_acres'].count())"
   ]
  },
  {
   "cell_type": "code",
   "execution_count": 39,
   "metadata": {},
   "outputs": [
    {
     "name": "stdout",
     "output_type": "stream",
     "text": [
      "<class 'pandas.core.frame.DataFrame'>\n",
      "Int64Index: 4967 entries, 0 to 4999\n",
      "Data columns (total 16 columns):\n",
      "MLS                 4967 non-null int64\n",
      "sold_price          4967 non-null float64\n",
      "zipcode             4967 non-null int64\n",
      "longitude           4967 non-null float64\n",
      "latitude            4967 non-null float64\n",
      "lot_acres           4967 non-null float64\n",
      "taxes               4945 non-null float64\n",
      "year_built          4962 non-null float64\n",
      "bedrooms            4967 non-null int64\n",
      "bathrooms           4962 non-null float64\n",
      "sqrt_ft             4912 non-null float64\n",
      "garage              4960 non-null float64\n",
      "kitchen_features    4967 non-null object\n",
      "fireplaces          4943 non-null float64\n",
      "floor_covering      4967 non-null object\n",
      "HOA                 4391 non-null float64\n",
      "dtypes: float64(11), int64(3), object(2)\n",
      "memory usage: 659.7+ KB\n"
     ]
    }
   ],
   "source": [
    "data.info()"
   ]
  },
  {
   "cell_type": "code",
   "execution_count": 40,
   "metadata": {},
   "outputs": [],
   "source": [
    "median_TX=data['taxes'].median()\n",
    "\n",
    "data['taxes']= np.where(data['taxes'] >0.05e7, median_TX,data['taxes'])"
   ]
  },
  {
   "cell_type": "code",
   "execution_count": null,
   "metadata": {},
   "outputs": [],
   "source": []
  },
  {
   "cell_type": "code",
   "execution_count": 41,
   "metadata": {},
   "outputs": [
    {
     "data": {
      "text/plain": [
       "Text(0, 0.5, 'Sold price')"
      ]
     },
     "execution_count": 41,
     "metadata": {},
     "output_type": "execute_result"
    },
    {
     "data": {
      "image/png": "[encoded data removed]",
      "text/plain": [
       "<Figure size 432x288 with 1 Axes>"
      ]
     },
     "metadata": {
      "needs_background": "light"
     },
     "output_type": "display_data"
    }
   ],
   "source": [
    "plt.scatter(data['taxes'],data['sold_price'], marker='o');\n",
    "plt.xlabel('Taxes') \n",
    "plt.ylabel('Sold price')"
   ]
  },
  {
   "cell_type": "code",
   "execution_count": 42,
   "metadata": {},
   "outputs": [],
   "source": [
    "median_TX = data['taxes'].median()\n",
    "data['taxes'].replace(np.nan,median_TX, inplace=True)"
   ]
  },
  {
   "cell_type": "markdown",
   "metadata": {},
   "source": [
    "Lets remove the Null values in year_built column"
   ]
  },
  {
   "cell_type": "code",
   "execution_count": 43,
   "metadata": {},
   "outputs": [],
   "source": [
    "median_YB = data['year_built'].median()\n",
    "data['year_built'].replace(np.nan,median_YB, inplace=True)"
   ]
  },
  {
   "cell_type": "markdown",
   "metadata": {},
   "source": [
    "Lets remove the Null values in bathrooms column"
   ]
  },
  {
   "cell_type": "code",
   "execution_count": 44,
   "metadata": {},
   "outputs": [],
   "source": [
    "median_BthR = data['bathrooms'].median()\n",
    "data['bathrooms'].replace(np.nan,median_BthR, inplace=True)"
   ]
  },
  {
   "cell_type": "markdown",
   "metadata": {},
   "source": [
    "Lets remove the Null values in sqrt_ft column"
   ]
  },
  {
   "cell_type": "code",
   "execution_count": 45,
   "metadata": {},
   "outputs": [],
   "source": [
    "# median_Sft = data['sqrt_ft'].median()\n",
    "data['sqrt_ft'].replace(np.nan,data['sqrt_ft'].median(), inplace=True)"
   ]
  },
  {
   "cell_type": "markdown",
   "metadata": {},
   "source": [
    "Lets remove the Null values in sqrt_ft column"
   ]
  },
  {
   "cell_type": "code",
   "execution_count": 46,
   "metadata": {},
   "outputs": [
    {
     "data": {
      "text/html": [
       "<div>\n",
       "<style scoped>\n",
       "    .dataframe tbody tr th:only-of-type {\n",
       "        vertical-align: middle;\n",
       "    }\n",
       "\n",
       "    .dataframe tbody tr th {\n",
       "        vertical-align: top;\n",
       "    }\n",
       "\n",
       "    .dataframe thead th {\n",
       "        text-align: right;\n",
       "    }\n",
       "</style>\n",
       "<table border=\"1\" class=\"dataframe\">\n",
       "  <thead>\n",
       "    <tr style=\"text-align: right;\">\n",
       "      <th></th>\n",
       "      <th>MLS</th>\n",
       "      <th>sold_price</th>\n",
       "      <th>zipcode</th>\n",
       "      <th>longitude</th>\n",
       "      <th>latitude</th>\n",
       "      <th>lot_acres</th>\n",
       "      <th>taxes</th>\n",
       "      <th>year_built</th>\n",
       "      <th>bedrooms</th>\n",
       "      <th>bathrooms</th>\n",
       "      <th>sqrt_ft</th>\n",
       "      <th>garage</th>\n",
       "      <th>fireplaces</th>\n",
       "      <th>HOA</th>\n",
       "    </tr>\n",
       "  </thead>\n",
       "  <tbody>\n",
       "    <tr>\n",
       "      <th>count</th>\n",
       "      <td>4.967000e+03</td>\n",
       "      <td>4.967000e+03</td>\n",
       "      <td>4967.000000</td>\n",
       "      <td>4967.000000</td>\n",
       "      <td>4967.000000</td>\n",
       "      <td>4967.000000</td>\n",
       "      <td>4967.000000</td>\n",
       "      <td>4967.000000</td>\n",
       "      <td>4967.000000</td>\n",
       "      <td>4967.000000</td>\n",
       "      <td>4967.000000</td>\n",
       "      <td>4967.000000</td>\n",
       "      <td>4943.000000</td>\n",
       "      <td>4391.000000</td>\n",
       "    </tr>\n",
       "    <tr>\n",
       "      <th>mean</th>\n",
       "      <td>2.127329e+07</td>\n",
       "      <td>7.750120e+05</td>\n",
       "      <td>85723.078921</td>\n",
       "      <td>-110.911933</td>\n",
       "      <td>32.309100</td>\n",
       "      <td>4.636334</td>\n",
       "      <td>6847.666255</td>\n",
       "      <td>1994.317697</td>\n",
       "      <td>3.927924</td>\n",
       "      <td>3.823938</td>\n",
       "      <td>3707.034951</td>\n",
       "      <td>2.817093</td>\n",
       "      <td>1.881853</td>\n",
       "      <td>82.654997</td>\n",
       "    </tr>\n",
       "    <tr>\n",
       "      <th>std</th>\n",
       "      <td>2.392432e+06</td>\n",
       "      <td>3.191210e+05</td>\n",
       "      <td>38.045295</td>\n",
       "      <td>0.120679</td>\n",
       "      <td>0.177066</td>\n",
       "      <td>51.776995</td>\n",
       "      <td>3521.293932</td>\n",
       "      <td>17.710558</td>\n",
       "      <td>1.229602</td>\n",
       "      <td>1.379601</td>\n",
       "      <td>1101.550261</td>\n",
       "      <td>1.192301</td>\n",
       "      <td>1.133626</td>\n",
       "      <td>91.650756</td>\n",
       "    </tr>\n",
       "    <tr>\n",
       "      <th>min</th>\n",
       "      <td>3.042851e+06</td>\n",
       "      <td>3.000000e+05</td>\n",
       "      <td>85118.000000</td>\n",
       "      <td>-112.520168</td>\n",
       "      <td>31.356362</td>\n",
       "      <td>0.020000</td>\n",
       "      <td>1.000000</td>\n",
       "      <td>1893.000000</td>\n",
       "      <td>1.000000</td>\n",
       "      <td>1.000000</td>\n",
       "      <td>1100.000000</td>\n",
       "      <td>0.000000</td>\n",
       "      <td>0.000000</td>\n",
       "      <td>0.000000</td>\n",
       "    </tr>\n",
       "    <tr>\n",
       "      <th>25%</th>\n",
       "      <td>2.140744e+07</td>\n",
       "      <td>5.850000e+05</td>\n",
       "      <td>85718.000000</td>\n",
       "      <td>-110.979138</td>\n",
       "      <td>32.277778</td>\n",
       "      <td>0.600000</td>\n",
       "      <td>4827.280000</td>\n",
       "      <td>1987.000000</td>\n",
       "      <td>3.000000</td>\n",
       "      <td>3.000000</td>\n",
       "      <td>3051.000000</td>\n",
       "      <td>2.000000</td>\n",
       "      <td>1.000000</td>\n",
       "      <td>8.000000</td>\n",
       "    </tr>\n",
       "    <tr>\n",
       "      <th>50%</th>\n",
       "      <td>2.161507e+07</td>\n",
       "      <td>6.750000e+05</td>\n",
       "      <td>85737.000000</td>\n",
       "      <td>-110.923317</td>\n",
       "      <td>32.318525</td>\n",
       "      <td>0.990000</td>\n",
       "      <td>6234.290000</td>\n",
       "      <td>1999.000000</td>\n",
       "      <td>4.000000</td>\n",
       "      <td>4.000000</td>\n",
       "      <td>3508.000000</td>\n",
       "      <td>3.000000</td>\n",
       "      <td>2.000000</td>\n",
       "      <td>55.000000</td>\n",
       "    </tr>\n",
       "    <tr>\n",
       "      <th>75%</th>\n",
       "      <td>2.180502e+07</td>\n",
       "      <td>8.350000e+05</td>\n",
       "      <td>85749.000000</td>\n",
       "      <td>-110.858963</td>\n",
       "      <td>32.394589</td>\n",
       "      <td>1.745000</td>\n",
       "      <td>8064.195000</td>\n",
       "      <td>2006.000000</td>\n",
       "      <td>4.000000</td>\n",
       "      <td>4.000000</td>\n",
       "      <td>4113.500000</td>\n",
       "      <td>3.000000</td>\n",
       "      <td>3.000000</td>\n",
       "      <td>134.000000</td>\n",
       "    </tr>\n",
       "    <tr>\n",
       "      <th>max</th>\n",
       "      <td>2.192856e+07</td>\n",
       "      <td>5.300000e+06</td>\n",
       "      <td>86323.000000</td>\n",
       "      <td>-109.454637</td>\n",
       "      <td>34.927884</td>\n",
       "      <td>2154.000000</td>\n",
       "      <td>32442.220000</td>\n",
       "      <td>2019.000000</td>\n",
       "      <td>36.000000</td>\n",
       "      <td>36.000000</td>\n",
       "      <td>22408.000000</td>\n",
       "      <td>30.000000</td>\n",
       "      <td>9.000000</td>\n",
       "      <td>925.000000</td>\n",
       "    </tr>\n",
       "  </tbody>\n",
       "</table>\n",
       "</div>"
      ],
      "text/plain": [
       "                MLS    sold_price       zipcode    longitude     latitude  \\\n",
       "count  4.967000e+03  4.967000e+03   4967.000000  4967.000000  4967.000000   \n",
       "mean   2.127329e+07  7.750120e+05  85723.078921  -110.911933    32.309100   \n",
       "std    2.392432e+06  3.191210e+05     38.045295     0.120679     0.177066   \n",
       "min    3.042851e+06  3.000000e+05  85118.000000  -112.520168    31.356362   \n",
       "25%    2.140744e+07  5.850000e+05  85718.000000  -110.979138    32.277778   \n",
       "50%    2.161507e+07  6.750000e+05  85737.000000  -110.923317    32.318525   \n",
       "75%    2.180502e+07  8.350000e+05  85749.000000  -110.858963    32.394589   \n",
       "max    2.192856e+07  5.300000e+06  86323.000000  -109.454637    34.927884   \n",
       "\n",
       "         lot_acres         taxes   year_built     bedrooms    bathrooms  \\\n",
       "count  4967.000000   4967.000000  4967.000000  4967.000000  4967.000000   \n",
       "mean      4.636334   6847.666255  1994.317697     3.927924     3.823938   \n",
       "std      51.776995   3521.293932    17.710558     1.229602     1.379601   \n",
       "min       0.020000      1.000000  1893.000000     1.000000     1.000000   \n",
       "25%       0.600000   4827.280000  1987.000000     3.000000     3.000000   \n",
       "50%       0.990000   6234.290000  1999.000000     4.000000     4.000000   \n",
       "75%       1.745000   8064.195000  2006.000000     4.000000     4.000000   \n",
       "max    2154.000000  32442.220000  2019.000000    36.000000    36.000000   \n",
       "\n",
       "            sqrt_ft       garage   fireplaces          HOA  \n",
       "count   4967.000000  4967.000000  4943.000000  4391.000000  \n",
       "mean    3707.034951     2.817093     1.881853    82.654997  \n",
       "std     1101.550261     1.192301     1.133626    91.650756  \n",
       "min     1100.000000     0.000000     0.000000     0.000000  \n",
       "25%     3051.000000     2.000000     1.000000     8.000000  \n",
       "50%     3508.000000     3.000000     2.000000    55.000000  \n",
       "75%     4113.500000     3.000000     3.000000   134.000000  \n",
       "max    22408.000000    30.000000     9.000000   925.000000  "
      ]
     },
     "execution_count": 46,
     "metadata": {},
     "output_type": "execute_result"
    }
   ],
   "source": [
    "data['garage'].replace(np.nan,data['garage'].median(), inplace=True)\n",
    "data.describe()"
   ]
  },
  {
   "cell_type": "markdown",
   "metadata": {},
   "source": [
    "Lets remove the Null values in fireplaces column"
   ]
  },
  {
   "cell_type": "code",
   "execution_count": 47,
   "metadata": {},
   "outputs": [
    {
     "data": {
      "text/html": [
       "<div>\n",
       "<style scoped>\n",
       "    .dataframe tbody tr th:only-of-type {\n",
       "        vertical-align: middle;\n",
       "    }\n",
       "\n",
       "    .dataframe tbody tr th {\n",
       "        vertical-align: top;\n",
       "    }\n",
       "\n",
       "    .dataframe thead th {\n",
       "        text-align: right;\n",
       "    }\n",
       "</style>\n",
       "<table border=\"1\" class=\"dataframe\">\n",
       "  <thead>\n",
       "    <tr style=\"text-align: right;\">\n",
       "      <th></th>\n",
       "      <th>MLS</th>\n",
       "      <th>sold_price</th>\n",
       "      <th>zipcode</th>\n",
       "      <th>longitude</th>\n",
       "      <th>latitude</th>\n",
       "      <th>lot_acres</th>\n",
       "      <th>taxes</th>\n",
       "      <th>year_built</th>\n",
       "      <th>bedrooms</th>\n",
       "      <th>bathrooms</th>\n",
       "      <th>sqrt_ft</th>\n",
       "      <th>garage</th>\n",
       "      <th>fireplaces</th>\n",
       "      <th>HOA</th>\n",
       "    </tr>\n",
       "  </thead>\n",
       "  <tbody>\n",
       "    <tr>\n",
       "      <th>count</th>\n",
       "      <td>4.967000e+03</td>\n",
       "      <td>4.967000e+03</td>\n",
       "      <td>4967.000000</td>\n",
       "      <td>4967.000000</td>\n",
       "      <td>4967.000000</td>\n",
       "      <td>4967.000000</td>\n",
       "      <td>4967.000000</td>\n",
       "      <td>4967.000000</td>\n",
       "      <td>4967.000000</td>\n",
       "      <td>4967.000000</td>\n",
       "      <td>4967.000000</td>\n",
       "      <td>4967.000000</td>\n",
       "      <td>4967.000000</td>\n",
       "      <td>4391.000000</td>\n",
       "    </tr>\n",
       "    <tr>\n",
       "      <th>mean</th>\n",
       "      <td>2.127329e+07</td>\n",
       "      <td>7.750120e+05</td>\n",
       "      <td>85723.078921</td>\n",
       "      <td>-110.911933</td>\n",
       "      <td>32.309100</td>\n",
       "      <td>4.636334</td>\n",
       "      <td>6847.666255</td>\n",
       "      <td>1994.317697</td>\n",
       "      <td>3.927924</td>\n",
       "      <td>3.823938</td>\n",
       "      <td>3707.034951</td>\n",
       "      <td>2.817093</td>\n",
       "      <td>1.882424</td>\n",
       "      <td>82.654997</td>\n",
       "    </tr>\n",
       "    <tr>\n",
       "      <th>std</th>\n",
       "      <td>2.392432e+06</td>\n",
       "      <td>3.191210e+05</td>\n",
       "      <td>38.045295</td>\n",
       "      <td>0.120679</td>\n",
       "      <td>0.177066</td>\n",
       "      <td>51.776995</td>\n",
       "      <td>3521.293932</td>\n",
       "      <td>17.710558</td>\n",
       "      <td>1.229602</td>\n",
       "      <td>1.379601</td>\n",
       "      <td>1101.550261</td>\n",
       "      <td>1.192301</td>\n",
       "      <td>1.130913</td>\n",
       "      <td>91.650756</td>\n",
       "    </tr>\n",
       "    <tr>\n",
       "      <th>min</th>\n",
       "      <td>3.042851e+06</td>\n",
       "      <td>3.000000e+05</td>\n",
       "      <td>85118.000000</td>\n",
       "      <td>-112.520168</td>\n",
       "      <td>31.356362</td>\n",
       "      <td>0.020000</td>\n",
       "      <td>1.000000</td>\n",
       "      <td>1893.000000</td>\n",
       "      <td>1.000000</td>\n",
       "      <td>1.000000</td>\n",
       "      <td>1100.000000</td>\n",
       "      <td>0.000000</td>\n",
       "      <td>0.000000</td>\n",
       "      <td>0.000000</td>\n",
       "    </tr>\n",
       "    <tr>\n",
       "      <th>25%</th>\n",
       "      <td>2.140744e+07</td>\n",
       "      <td>5.850000e+05</td>\n",
       "      <td>85718.000000</td>\n",
       "      <td>-110.979138</td>\n",
       "      <td>32.277778</td>\n",
       "      <td>0.600000</td>\n",
       "      <td>4827.280000</td>\n",
       "      <td>1987.000000</td>\n",
       "      <td>3.000000</td>\n",
       "      <td>3.000000</td>\n",
       "      <td>3051.000000</td>\n",
       "      <td>2.000000</td>\n",
       "      <td>1.000000</td>\n",
       "      <td>8.000000</td>\n",
       "    </tr>\n",
       "    <tr>\n",
       "      <th>50%</th>\n",
       "      <td>2.161507e+07</td>\n",
       "      <td>6.750000e+05</td>\n",
       "      <td>85737.000000</td>\n",
       "      <td>-110.923317</td>\n",
       "      <td>32.318525</td>\n",
       "      <td>0.990000</td>\n",
       "      <td>6234.290000</td>\n",
       "      <td>1999.000000</td>\n",
       "      <td>4.000000</td>\n",
       "      <td>4.000000</td>\n",
       "      <td>3508.000000</td>\n",
       "      <td>3.000000</td>\n",
       "      <td>2.000000</td>\n",
       "      <td>55.000000</td>\n",
       "    </tr>\n",
       "    <tr>\n",
       "      <th>75%</th>\n",
       "      <td>2.180502e+07</td>\n",
       "      <td>8.350000e+05</td>\n",
       "      <td>85749.000000</td>\n",
       "      <td>-110.858963</td>\n",
       "      <td>32.394589</td>\n",
       "      <td>1.745000</td>\n",
       "      <td>8064.195000</td>\n",
       "      <td>2006.000000</td>\n",
       "      <td>4.000000</td>\n",
       "      <td>4.000000</td>\n",
       "      <td>4113.500000</td>\n",
       "      <td>3.000000</td>\n",
       "      <td>3.000000</td>\n",
       "      <td>134.000000</td>\n",
       "    </tr>\n",
       "    <tr>\n",
       "      <th>max</th>\n",
       "      <td>2.192856e+07</td>\n",
       "      <td>5.300000e+06</td>\n",
       "      <td>86323.000000</td>\n",
       "      <td>-109.454637</td>\n",
       "      <td>34.927884</td>\n",
       "      <td>2154.000000</td>\n",
       "      <td>32442.220000</td>\n",
       "      <td>2019.000000</td>\n",
       "      <td>36.000000</td>\n",
       "      <td>36.000000</td>\n",
       "      <td>22408.000000</td>\n",
       "      <td>30.000000</td>\n",
       "      <td>9.000000</td>\n",
       "      <td>925.000000</td>\n",
       "    </tr>\n",
       "  </tbody>\n",
       "</table>\n",
       "</div>"
      ],
      "text/plain": [
       "                MLS    sold_price       zipcode    longitude     latitude  \\\n",
       "count  4.967000e+03  4.967000e+03   4967.000000  4967.000000  4967.000000   \n",
       "mean   2.127329e+07  7.750120e+05  85723.078921  -110.911933    32.309100   \n",
       "std    2.392432e+06  3.191210e+05     38.045295     0.120679     0.177066   \n",
       "min    3.042851e+06  3.000000e+05  85118.000000  -112.520168    31.356362   \n",
       "25%    2.140744e+07  5.850000e+05  85718.000000  -110.979138    32.277778   \n",
       "50%    2.161507e+07  6.750000e+05  85737.000000  -110.923317    32.318525   \n",
       "75%    2.180502e+07  8.350000e+05  85749.000000  -110.858963    32.394589   \n",
       "max    2.192856e+07  5.300000e+06  86323.000000  -109.454637    34.927884   \n",
       "\n",
       "         lot_acres         taxes   year_built     bedrooms    bathrooms  \\\n",
       "count  4967.000000   4967.000000  4967.000000  4967.000000  4967.000000   \n",
       "mean      4.636334   6847.666255  1994.317697     3.927924     3.823938   \n",
       "std      51.776995   3521.293932    17.710558     1.229602     1.379601   \n",
       "min       0.020000      1.000000  1893.000000     1.000000     1.000000   \n",
       "25%       0.600000   4827.280000  1987.000000     3.000000     3.000000   \n",
       "50%       0.990000   6234.290000  1999.000000     4.000000     4.000000   \n",
       "75%       1.745000   8064.195000  2006.000000     4.000000     4.000000   \n",
       "max    2154.000000  32442.220000  2019.000000    36.000000    36.000000   \n",
       "\n",
       "            sqrt_ft       garage   fireplaces          HOA  \n",
       "count   4967.000000  4967.000000  4967.000000  4391.000000  \n",
       "mean    3707.034951     2.817093     1.882424    82.654997  \n",
       "std     1101.550261     1.192301     1.130913    91.650756  \n",
       "min     1100.000000     0.000000     0.000000     0.000000  \n",
       "25%     3051.000000     2.000000     1.000000     8.000000  \n",
       "50%     3508.000000     3.000000     2.000000    55.000000  \n",
       "75%     4113.500000     3.000000     3.000000   134.000000  \n",
       "max    22408.000000    30.000000     9.000000   925.000000  "
      ]
     },
     "execution_count": 47,
     "metadata": {},
     "output_type": "execute_result"
    }
   ],
   "source": [
    "data['fireplaces'].replace(np.nan,data['fireplaces'].median(), inplace=True)\n",
    "data.describe()"
   ]
  },
  {
   "cell_type": "markdown",
   "metadata": {},
   "source": [
    "Lets remove the Null values in HOA column"
   ]
  },
  {
   "cell_type": "code",
   "execution_count": 48,
   "metadata": {},
   "outputs": [
    {
     "data": {
      "text/html": [
       "<div>\n",
       "<style scoped>\n",
       "    .dataframe tbody tr th:only-of-type {\n",
       "        vertical-align: middle;\n",
       "    }\n",
       "\n",
       "    .dataframe tbody tr th {\n",
       "        vertical-align: top;\n",
       "    }\n",
       "\n",
       "    .dataframe thead th {\n",
       "        text-align: right;\n",
       "    }\n",
       "</style>\n",
       "<table border=\"1\" class=\"dataframe\">\n",
       "  <thead>\n",
       "    <tr style=\"text-align: right;\">\n",
       "      <th></th>\n",
       "      <th>MLS</th>\n",
       "      <th>sold_price</th>\n",
       "      <th>zipcode</th>\n",
       "      <th>longitude</th>\n",
       "      <th>latitude</th>\n",
       "      <th>lot_acres</th>\n",
       "      <th>taxes</th>\n",
       "      <th>year_built</th>\n",
       "      <th>bedrooms</th>\n",
       "      <th>bathrooms</th>\n",
       "      <th>sqrt_ft</th>\n",
       "      <th>garage</th>\n",
       "      <th>fireplaces</th>\n",
       "      <th>HOA</th>\n",
       "    </tr>\n",
       "  </thead>\n",
       "  <tbody>\n",
       "    <tr>\n",
       "      <th>count</th>\n",
       "      <td>4.967000e+03</td>\n",
       "      <td>4.967000e+03</td>\n",
       "      <td>4967.000000</td>\n",
       "      <td>4967.000000</td>\n",
       "      <td>4967.000000</td>\n",
       "      <td>4967.000000</td>\n",
       "      <td>4967.000000</td>\n",
       "      <td>4967.000000</td>\n",
       "      <td>4967.000000</td>\n",
       "      <td>4967.000000</td>\n",
       "      <td>4967.000000</td>\n",
       "      <td>4967.000000</td>\n",
       "      <td>4967.000000</td>\n",
       "      <td>4967.000000</td>\n",
       "    </tr>\n",
       "    <tr>\n",
       "      <th>mean</th>\n",
       "      <td>2.127329e+07</td>\n",
       "      <td>7.750120e+05</td>\n",
       "      <td>85723.078921</td>\n",
       "      <td>-110.911933</td>\n",
       "      <td>32.309100</td>\n",
       "      <td>4.636334</td>\n",
       "      <td>6847.666255</td>\n",
       "      <td>1994.317697</td>\n",
       "      <td>3.927924</td>\n",
       "      <td>3.823938</td>\n",
       "      <td>3707.034951</td>\n",
       "      <td>2.817093</td>\n",
       "      <td>1.882424</td>\n",
       "      <td>73.069879</td>\n",
       "    </tr>\n",
       "    <tr>\n",
       "      <th>std</th>\n",
       "      <td>2.392432e+06</td>\n",
       "      <td>3.191210e+05</td>\n",
       "      <td>38.045295</td>\n",
       "      <td>0.120679</td>\n",
       "      <td>0.177066</td>\n",
       "      <td>51.776995</td>\n",
       "      <td>3521.293932</td>\n",
       "      <td>17.710558</td>\n",
       "      <td>1.229602</td>\n",
       "      <td>1.379601</td>\n",
       "      <td>1101.550261</td>\n",
       "      <td>1.192301</td>\n",
       "      <td>1.130913</td>\n",
       "      <td>90.144863</td>\n",
       "    </tr>\n",
       "    <tr>\n",
       "      <th>min</th>\n",
       "      <td>3.042851e+06</td>\n",
       "      <td>3.000000e+05</td>\n",
       "      <td>85118.000000</td>\n",
       "      <td>-112.520168</td>\n",
       "      <td>31.356362</td>\n",
       "      <td>0.020000</td>\n",
       "      <td>1.000000</td>\n",
       "      <td>1893.000000</td>\n",
       "      <td>1.000000</td>\n",
       "      <td>1.000000</td>\n",
       "      <td>1100.000000</td>\n",
       "      <td>0.000000</td>\n",
       "      <td>0.000000</td>\n",
       "      <td>0.000000</td>\n",
       "    </tr>\n",
       "    <tr>\n",
       "      <th>25%</th>\n",
       "      <td>2.140744e+07</td>\n",
       "      <td>5.850000e+05</td>\n",
       "      <td>85718.000000</td>\n",
       "      <td>-110.979138</td>\n",
       "      <td>32.277778</td>\n",
       "      <td>0.600000</td>\n",
       "      <td>4827.280000</td>\n",
       "      <td>1987.000000</td>\n",
       "      <td>3.000000</td>\n",
       "      <td>3.000000</td>\n",
       "      <td>3051.000000</td>\n",
       "      <td>2.000000</td>\n",
       "      <td>1.000000</td>\n",
       "      <td>0.000000</td>\n",
       "    </tr>\n",
       "    <tr>\n",
       "      <th>50%</th>\n",
       "      <td>2.161507e+07</td>\n",
       "      <td>6.750000e+05</td>\n",
       "      <td>85737.000000</td>\n",
       "      <td>-110.923317</td>\n",
       "      <td>32.318525</td>\n",
       "      <td>0.990000</td>\n",
       "      <td>6234.290000</td>\n",
       "      <td>1999.000000</td>\n",
       "      <td>4.000000</td>\n",
       "      <td>4.000000</td>\n",
       "      <td>3508.000000</td>\n",
       "      <td>3.000000</td>\n",
       "      <td>2.000000</td>\n",
       "      <td>44.000000</td>\n",
       "    </tr>\n",
       "    <tr>\n",
       "      <th>75%</th>\n",
       "      <td>2.180502e+07</td>\n",
       "      <td>8.350000e+05</td>\n",
       "      <td>85749.000000</td>\n",
       "      <td>-110.858963</td>\n",
       "      <td>32.394589</td>\n",
       "      <td>1.745000</td>\n",
       "      <td>8064.195000</td>\n",
       "      <td>2006.000000</td>\n",
       "      <td>4.000000</td>\n",
       "      <td>4.000000</td>\n",
       "      <td>4113.500000</td>\n",
       "      <td>3.000000</td>\n",
       "      <td>3.000000</td>\n",
       "      <td>122.000000</td>\n",
       "    </tr>\n",
       "    <tr>\n",
       "      <th>max</th>\n",
       "      <td>2.192856e+07</td>\n",
       "      <td>5.300000e+06</td>\n",
       "      <td>86323.000000</td>\n",
       "      <td>-109.454637</td>\n",
       "      <td>34.927884</td>\n",
       "      <td>2154.000000</td>\n",
       "      <td>32442.220000</td>\n",
       "      <td>2019.000000</td>\n",
       "      <td>36.000000</td>\n",
       "      <td>36.000000</td>\n",
       "      <td>22408.000000</td>\n",
       "      <td>30.000000</td>\n",
       "      <td>9.000000</td>\n",
       "      <td>925.000000</td>\n",
       "    </tr>\n",
       "  </tbody>\n",
       "</table>\n",
       "</div>"
      ],
      "text/plain": [
       "                MLS    sold_price       zipcode    longitude     latitude  \\\n",
       "count  4.967000e+03  4.967000e+03   4967.000000  4967.000000  4967.000000   \n",
       "mean   2.127329e+07  7.750120e+05  85723.078921  -110.911933    32.309100   \n",
       "std    2.392432e+06  3.191210e+05     38.045295     0.120679     0.177066   \n",
       "min    3.042851e+06  3.000000e+05  85118.000000  -112.520168    31.356362   \n",
       "25%    2.140744e+07  5.850000e+05  85718.000000  -110.979138    32.277778   \n",
       "50%    2.161507e+07  6.750000e+05  85737.000000  -110.923317    32.318525   \n",
       "75%    2.180502e+07  8.350000e+05  85749.000000  -110.858963    32.394589   \n",
       "max    2.192856e+07  5.300000e+06  86323.000000  -109.454637    34.927884   \n",
       "\n",
       "         lot_acres         taxes   year_built     bedrooms    bathrooms  \\\n",
       "count  4967.000000   4967.000000  4967.000000  4967.000000  4967.000000   \n",
       "mean      4.636334   6847.666255  1994.317697     3.927924     3.823938   \n",
       "std      51.776995   3521.293932    17.710558     1.229602     1.379601   \n",
       "min       0.020000      1.000000  1893.000000     1.000000     1.000000   \n",
       "25%       0.600000   4827.280000  1987.000000     3.000000     3.000000   \n",
       "50%       0.990000   6234.290000  1999.000000     4.000000     4.000000   \n",
       "75%       1.745000   8064.195000  2006.000000     4.000000     4.000000   \n",
       "max    2154.000000  32442.220000  2019.000000    36.000000    36.000000   \n",
       "\n",
       "            sqrt_ft       garage   fireplaces          HOA  \n",
       "count   4967.000000  4967.000000  4967.000000  4967.000000  \n",
       "mean    3707.034951     2.817093     1.882424    73.069879  \n",
       "std     1101.550261     1.192301     1.130913    90.144863  \n",
       "min     1100.000000     0.000000     0.000000     0.000000  \n",
       "25%     3051.000000     2.000000     1.000000     0.000000  \n",
       "50%     3508.000000     3.000000     2.000000    44.000000  \n",
       "75%     4113.500000     3.000000     3.000000   122.000000  \n",
       "max    22408.000000    30.000000     9.000000   925.000000  "
      ]
     },
     "execution_count": 48,
     "metadata": {},
     "output_type": "execute_result"
    }
   ],
   "source": [
    "data['HOA'].replace(np.nan,0, inplace=True)\n",
    "data.describe()"
   ]
  },
  {
   "cell_type": "code",
   "execution_count": 49,
   "metadata": {},
   "outputs": [
    {
     "name": "stdout",
     "output_type": "stream",
     "text": [
      "<class 'pandas.core.frame.DataFrame'>\n",
      "Int64Index: 4967 entries, 0 to 4999\n",
      "Data columns (total 16 columns):\n",
      "MLS                 4967 non-null int64\n",
      "sold_price          4967 non-null float64\n",
      "zipcode             4967 non-null int64\n",
      "longitude           4967 non-null float64\n",
      "latitude            4967 non-null float64\n",
      "lot_acres           4967 non-null float64\n",
      "taxes               4967 non-null float64\n",
      "year_built          4967 non-null float64\n",
      "bedrooms            4967 non-null int64\n",
      "bathrooms           4967 non-null float64\n",
      "sqrt_ft             4967 non-null float64\n",
      "garage              4967 non-null float64\n",
      "kitchen_features    4967 non-null object\n",
      "fireplaces          4967 non-null float64\n",
      "floor_covering      4967 non-null object\n",
      "HOA                 4967 non-null float64\n",
      "dtypes: float64(11), int64(3), object(2)\n",
      "memory usage: 659.7+ KB\n"
     ]
    }
   ],
   "source": [
    "data.info()"
   ]
  },
  {
   "cell_type": "code",
   "execution_count": 50,
   "metadata": {},
   "outputs": [
    {
     "data": {
      "text/html": [
       "<div>\n",
       "<style scoped>\n",
       "    .dataframe tbody tr th:only-of-type {\n",
       "        vertical-align: middle;\n",
       "    }\n",
       "\n",
       "    .dataframe tbody tr th {\n",
       "        vertical-align: top;\n",
       "    }\n",
       "\n",
       "    .dataframe thead th {\n",
       "        text-align: right;\n",
       "    }\n",
       "</style>\n",
       "<table border=\"1\" class=\"dataframe\">\n",
       "  <thead>\n",
       "    <tr style=\"text-align: right;\">\n",
       "      <th></th>\n",
       "      <th>MLS</th>\n",
       "      <th>sold_price</th>\n",
       "      <th>zipcode</th>\n",
       "      <th>longitude</th>\n",
       "      <th>latitude</th>\n",
       "      <th>lot_acres</th>\n",
       "      <th>taxes</th>\n",
       "      <th>year_built</th>\n",
       "      <th>bedrooms</th>\n",
       "      <th>bathrooms</th>\n",
       "      <th>sqrt_ft</th>\n",
       "      <th>garage</th>\n",
       "      <th>kitchen_features</th>\n",
       "      <th>fireplaces</th>\n",
       "      <th>floor_covering</th>\n",
       "      <th>HOA</th>\n",
       "    </tr>\n",
       "  </thead>\n",
       "  <tbody>\n",
       "    <tr>\n",
       "      <th>0</th>\n",
       "      <td>21530491</td>\n",
       "      <td>5300000.0</td>\n",
       "      <td>85637</td>\n",
       "      <td>-110.378200</td>\n",
       "      <td>31.356362</td>\n",
       "      <td>2154.00</td>\n",
       "      <td>5272.00</td>\n",
       "      <td>1941.0</td>\n",
       "      <td>13</td>\n",
       "      <td>10.0</td>\n",
       "      <td>10500.0</td>\n",
       "      <td>0.0</td>\n",
       "      <td>Dishwasher, Freezer, Refrigerator, Oven</td>\n",
       "      <td>6.0</td>\n",
       "      <td>Mexican Tile, Wood</td>\n",
       "      <td>0.0</td>\n",
       "    </tr>\n",
       "    <tr>\n",
       "      <th>1</th>\n",
       "      <td>21529082</td>\n",
       "      <td>4200000.0</td>\n",
       "      <td>85646</td>\n",
       "      <td>-111.045371</td>\n",
       "      <td>31.594213</td>\n",
       "      <td>1707.00</td>\n",
       "      <td>10422.36</td>\n",
       "      <td>1997.0</td>\n",
       "      <td>2</td>\n",
       "      <td>2.0</td>\n",
       "      <td>7300.0</td>\n",
       "      <td>0.0</td>\n",
       "      <td>Dishwasher, Garbage Disposal</td>\n",
       "      <td>5.0</td>\n",
       "      <td>Natural Stone, Other</td>\n",
       "      <td>0.0</td>\n",
       "    </tr>\n",
       "    <tr>\n",
       "      <th>2</th>\n",
       "      <td>3054672</td>\n",
       "      <td>4200000.0</td>\n",
       "      <td>85646</td>\n",
       "      <td>-111.040707</td>\n",
       "      <td>31.594844</td>\n",
       "      <td>1707.00</td>\n",
       "      <td>10482.00</td>\n",
       "      <td>1997.0</td>\n",
       "      <td>2</td>\n",
       "      <td>3.0</td>\n",
       "      <td>3508.0</td>\n",
       "      <td>3.0</td>\n",
       "      <td>Dishwasher, Garbage Disposal, Refrigerator</td>\n",
       "      <td>5.0</td>\n",
       "      <td>Natural Stone, Other: Rock</td>\n",
       "      <td>0.0</td>\n",
       "    </tr>\n",
       "    <tr>\n",
       "      <th>3</th>\n",
       "      <td>21919321</td>\n",
       "      <td>4500000.0</td>\n",
       "      <td>85646</td>\n",
       "      <td>-111.035925</td>\n",
       "      <td>31.645878</td>\n",
       "      <td>636.67</td>\n",
       "      <td>8418.58</td>\n",
       "      <td>1930.0</td>\n",
       "      <td>7</td>\n",
       "      <td>5.0</td>\n",
       "      <td>9019.0</td>\n",
       "      <td>4.0</td>\n",
       "      <td>Dishwasher, Double Sink, Pantry: Butler, Refri...</td>\n",
       "      <td>4.0</td>\n",
       "      <td>Ceramic Tile, Laminate, Wood</td>\n",
       "      <td>0.0</td>\n",
       "    </tr>\n",
       "    <tr>\n",
       "      <th>4</th>\n",
       "      <td>21306357</td>\n",
       "      <td>3411450.0</td>\n",
       "      <td>85750</td>\n",
       "      <td>-110.813768</td>\n",
       "      <td>32.285162</td>\n",
       "      <td>3.21</td>\n",
       "      <td>15393.00</td>\n",
       "      <td>1995.0</td>\n",
       "      <td>4</td>\n",
       "      <td>6.0</td>\n",
       "      <td>6396.0</td>\n",
       "      <td>3.0</td>\n",
       "      <td>Dishwasher, Garbage Disposal, Refrigerator, Mi...</td>\n",
       "      <td>5.0</td>\n",
       "      <td>Carpet, Concrete</td>\n",
       "      <td>55.0</td>\n",
       "    </tr>\n",
       "  </tbody>\n",
       "</table>\n",
       "</div>"
      ],
      "text/plain": [
       "        MLS  sold_price  zipcode   longitude   latitude  lot_acres     taxes  \\\n",
       "0  21530491   5300000.0    85637 -110.378200  31.356362    2154.00   5272.00   \n",
       "1  21529082   4200000.0    85646 -111.045371  31.594213    1707.00  10422.36   \n",
       "2   3054672   4200000.0    85646 -111.040707  31.594844    1707.00  10482.00   \n",
       "3  21919321   4500000.0    85646 -111.035925  31.645878     636.67   8418.58   \n",
       "4  21306357   3411450.0    85750 -110.813768  32.285162       3.21  15393.00   \n",
       "\n",
       "   year_built  bedrooms  bathrooms  sqrt_ft  garage  \\\n",
       "0      1941.0        13       10.0  10500.0     0.0   \n",
       "1      1997.0         2        2.0   7300.0     0.0   \n",
       "2      1997.0         2        3.0   3508.0     3.0   \n",
       "3      1930.0         7        5.0   9019.0     4.0   \n",
       "4      1995.0         4        6.0   6396.0     3.0   \n",
       "\n",
       "                                    kitchen_features  fireplaces  \\\n",
       "0            Dishwasher, Freezer, Refrigerator, Oven         6.0   \n",
       "1                       Dishwasher, Garbage Disposal         5.0   \n",
       "2         Dishwasher, Garbage Disposal, Refrigerator         5.0   \n",
       "3  Dishwasher, Double Sink, Pantry: Butler, Refri...         4.0   \n",
       "4  Dishwasher, Garbage Disposal, Refrigerator, Mi...         5.0   \n",
       "\n",
       "                 floor_covering   HOA  \n",
       "0            Mexican Tile, Wood   0.0  \n",
       "1          Natural Stone, Other   0.0  \n",
       "2    Natural Stone, Other: Rock   0.0  \n",
       "3  Ceramic Tile, Laminate, Wood   0.0  \n",
       "4              Carpet, Concrete  55.0  "
      ]
     },
     "execution_count": 50,
     "metadata": {},
     "output_type": "execute_result"
    }
   ],
   "source": [
    "data.head()"
   ]
  },
  {
   "cell_type": "markdown",
   "metadata": {},
   "source": [
    "Lets check if there is any Null values."
   ]
  },
  {
   "cell_type": "code",
   "execution_count": 51,
   "metadata": {},
   "outputs": [
    {
     "data": {
      "text/plain": [
       "0"
      ]
     },
     "execution_count": 51,
     "metadata": {},
     "output_type": "execute_result"
    }
   ],
   "source": [
    "data.isnull().sum().sum()"
   ]
  },
  {
   "cell_type": "markdown",
   "metadata": {},
   "source": [
    "Lets write the data in a csv file"
   ]
  },
  {
   "cell_type": "code",
   "execution_count": 53,
   "metadata": {},
   "outputs": [],
   "source": [
    "data.to_csv(\"Cleaned_housing_data.csv\",index=False)"
   ]
  },
  {
   "cell_type": "code",
   "execution_count": null,
   "metadata": {},
   "outputs": [],
   "source": []
  }
 ],
 "metadata": {
  "kernelspec": {
   "display_name": "Python 3",
   "language": "python",
   "name": "python3"
  },
  "language_info": {
   "codemirror_mode": {
    "name": "ipython",
    "version": 3
   },
   "file_extension": ".py",
   "mimetype": "text/x-python",
   "name": "python",
   "nbconvert_exporter": "python",
   "pygments_lexer": "ipython3",
   "version": "3.7.3"
  }
 },
 "nbformat": 4,
 "nbformat_minor": 2
}
